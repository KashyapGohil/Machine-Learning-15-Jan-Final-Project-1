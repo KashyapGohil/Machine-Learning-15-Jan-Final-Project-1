{
 "cells": [
  {
   "cell_type": "code",
   "execution_count": 1,
   "metadata": {},
   "outputs": [],
   "source": [
    "from mysql import connector"
   ]
  },
  {
   "cell_type": "markdown",
   "metadata": {},
   "source": [
    "**Steps :**\n",
    "\n",
    "`Download MySql Workbench ` [Click Here](https://dev.mysql.com/downloads/workbench/)\n",
    "\n",
    "`Open MySql Workbench and Open MySql connector`\n",
    "\n",
    "`On MyConnections click (+) symbol to create new connection`\n",
    "\n",
    "`Add username and click on` **store in password vault** `for password`"
   ]
  },
  {
   "cell_type": "markdown",
   "metadata": {},
   "source": [
    "### Connecting MySql with our Credentials.."
   ]
  },
  {
   "cell_type": "markdown",
   "metadata": {},
   "source": [
    "> `Use those crediantials here to connect..`"
   ]
  },
  {
   "cell_type": "code",
   "execution_count": 2,
   "metadata": {},
   "outputs": [],
   "source": [
    "Conn = connector.connect(host=\"localhost\",\n",
    "                        user=\"root\",\n",
    "                        password=\"root\")"
   ]
  },
  {
   "cell_type": "code",
   "execution_count": 3,
   "metadata": {},
   "outputs": [
    {
     "data": {
      "text/plain": [
       "<mysql.connector.connection.MySQLConnection at 0x4756c0f6d8>"
      ]
     },
     "execution_count": 3,
     "metadata": {},
     "output_type": "execute_result"
    }
   ],
   "source": [
    "Conn"
   ]
  },
  {
   "cell_type": "markdown",
   "metadata": {},
   "source": [
    "### Creating Cursor Object for Executing Sql Commands"
   ]
  },
  {
   "cell_type": "code",
   "execution_count": 4,
   "metadata": {},
   "outputs": [],
   "source": [
    "cursor = Conn.cursor()"
   ]
  },
  {
   "cell_type": "code",
   "execution_count": 7,
   "metadata": {},
   "outputs": [
    {
     "name": "stdout",
     "output_type": "stream",
     "text": [
      "('information_schema',)\n",
      "('mysql',)\n",
      "('new_schema',)\n",
      "('performance_schema',)\n"
     ]
    }
   ],
   "source": [
    "cursor.execute(\"SHOW DATABASES\")\n",
    "\n",
    "for x in cursor:\n",
    "    print(x)"
   ]
  },
  {
   "cell_type": "markdown",
   "metadata": {},
   "source": [
    "### By Default there are some databases, to create customdatabase use sql command `CREATE DATABASE dbname`"
   ]
  },
  {
   "cell_type": "code",
   "execution_count": 8,
   "metadata": {},
   "outputs": [],
   "source": [
    "cursor.execute(\"CREATE DATABASE drugs_db\")"
   ]
  },
  {
   "cell_type": "code",
   "execution_count": 9,
   "metadata": {},
   "outputs": [
    {
     "name": "stdout",
     "output_type": "stream",
     "text": [
      "('information_schema',)\n",
      "('drugs_db',)\n",
      "('mysql',)\n",
      "('new_schema',)\n",
      "('performance_schema',)\n"
     ]
    }
   ],
   "source": [
    "cursor.execute(\"SHOW DATABASES\")\n",
    "\n",
    "for x in cursor:\n",
    "    print(x)"
   ]
  },
  {
   "cell_type": "markdown",
   "metadata": {},
   "source": [
    "`Here we can see our database tc_db`"
   ]
  },
  {
   "cell_type": "code",
   "execution_count": 10,
   "metadata": {},
   "outputs": [],
   "source": [
    "cursor.execute(\"USE drugs_db\")"
   ]
  },
  {
   "cell_type": "markdown",
   "metadata": {},
   "source": [
    "`Above we are Selecting the created database as the active one`"
   ]
  },
  {
   "cell_type": "code",
   "execution_count": 11,
   "metadata": {},
   "outputs": [],
   "source": [
    "cursor.execute('''CREATE TABLE concept(concept_id INT(11) NOT NULL, \n",
    "                                    concept_name VARCHAR(255) NOT NULL, \n",
    "                                    domain_id VARCHAR(20) NOT NULL, \n",
    "                                    vocabulary_id VARCHAR(20) NOT NULL, \n",
    "                                    concept_class_id VARCHAR(20) NOT NULL,\n",
    "                                    standard_concept VARCHAR(1) NULL DEFAULT NULL, \n",
    "                                    concept_code VARCHAR(50) NOT NULL,\n",
    "                                    valid_start_date DATE NOT NULL,\n",
    "                                    valid_end_date DATE NOT NULL,\n",
    "                                    invalid_reason VARCHAR(1) NULL DEFAULT NULL);''')"
   ]
  },
  {
   "cell_type": "code",
   "execution_count": 12,
   "metadata": {},
   "outputs": [
    {
     "name": "stdout",
     "output_type": "stream",
     "text": [
      "('concept',)\n"
     ]
    }
   ],
   "source": [
    "cursor.execute(\"SHOW TABLES\")\n",
    "\n",
    "for x in cursor:\n",
    "    print(x)"
   ]
  },
  {
   "cell_type": "markdown",
   "metadata": {},
   "source": [
    "`Here we got our concept table.Let's start creating all other remaining tables....`"
   ]
  },
  {
   "cell_type": "code",
   "execution_count": 13,
   "metadata": {},
   "outputs": [],
   "source": [
    "cursor.execute('''CREATE TABLE vocabulary (vocabulary_id VARCHAR(20) NOT NULL,\n",
    "                                           vocabulary_name VARCHAR(255) NOT NULL, \n",
    "                                           vocabulary_reference VARCHAR(255) NULL DEFAULT NULL, \n",
    "                                           vocabulary_version VARCHAR(255) NULL DEFAULT NULL, \n",
    "                                           vocabulary_concept_id INT(11) NOT NULL);''')"
   ]
  },
  {
   "cell_type": "code",
   "execution_count": 14,
   "metadata": {},
   "outputs": [],
   "source": [
    "cursor.execute('''CREATE TABLE standard_case_drug (primaryid VARCHAR(512) NULL DEFAULT NULL, \n",
    "                                                   isr VARCHAR(512) NULL DEFAULT NULL, \n",
    "                                                   drug_seq VARCHAR(512) NULL DEFAULT NULL, \n",
    "                                                   role_cod VARCHAR(512) NULL DEFAULT NULL, \n",
    "                                                   standard_concept_id INT(11) NULL DEFAULT NULL);''')"
   ]
  },
  {
   "cell_type": "code",
   "execution_count": 15,
   "metadata": {},
   "outputs": [],
   "source": [
    "cursor.execute('''CREATE TABLE standard_case_indication (primaryid VARCHAR(512) NULL DEFAULT NULL, \n",
    "                                                        isr VARCHAR(512) NULL DEFAULT NULL, \n",
    "                                                        indi_drug_seq VARCHAR(512) NULL DEFAULT NULL, \n",
    "                                                        indi_pt VARCHAR(512) NULL DEFAULT NULL, \n",
    "                                                        indication_concept_id INT(11) NULL DEFAULT NULL, \n",
    "                                                        snomed_indication_concept_id INT(11) NULL DEFAULT NULL);''')"
   ]
  },
  {
   "cell_type": "code",
   "execution_count": 16,
   "metadata": {},
   "outputs": [],
   "source": [
    "cursor.execute('''CREATE TABLE standard_case_outcome (primaryid VARCHAR(512) NULL DEFAULT NULL, \n",
    "                                                      isr VARCHAR(512) NULL DEFAULT NULL, \n",
    "                                                      pt VARCHAR(512) NULL DEFAULT NULL, \n",
    "                                                      outcome_concept_id INT(11) NULL DEFAULT NULL,\n",
    "                                                      snomed_outcome_concept_id INT(11) NULL DEFAULT NULL);''')"
   ]
  },
  {
   "cell_type": "code",
   "execution_count": 17,
   "metadata": {},
   "outputs": [],
   "source": [
    "cursor.execute('''CREATE TABLE standard_case_outcome_category (primaryid VARCHAR(512) NULL DEFAULT NULL, \n",
    "                                                               isr VARCHAR(512) NULL DEFAULT NULL,\n",
    "                                                               outc_code VARCHAR(512) NULL DEFAULT NULL, \n",
    "                                                               snomed_concept_id INT(11) NULL DEFAULT NULL);''')"
   ]
  },
  {
   "cell_type": "code",
   "execution_count": 18,
   "metadata": {},
   "outputs": [],
   "source": [
    "cursor.execute('''CREATE TABLE standard_drug_outcome_contingency_table (drug_concept_id INT(11) NULL DEFAULT NULL, \n",
    "                                                                        outcome_concept_id INT(11) NULL DEFAULT NULL, \n",
    "                                                                        count_a BIGINT(20) NULL DEFAULT NULL, \n",
    "                                                                        count_b DECIMAL(10,0) NULL DEFAULT NULL, \n",
    "                                                                        count_c DECIMAL(10,0) NULL DEFAULT NULL, \n",
    "                                                                        count_d DECIMAL(10,0) NULL DEFAULT NULL);''')"
   ]
  },
  {
   "cell_type": "code",
   "execution_count": 19,
   "metadata": {},
   "outputs": [],
   "source": [
    "cursor.execute('''CREATE TABLE standard_drug_outcome_count (drug_concept_id INT(11) NULL DEFAULT NULL, \n",
    "                                                            outcome_concept_id INT(11) NULL DEFAULT NULL, \n",
    "                                                            drug_outcome_pair_count BIGINT(20) NULL DEFAULT NULL, \n",
    "                                                            snomed_outcome_concept_id INT(11) NULL DEFAULT NULL);''')"
   ]
  },
  {
   "cell_type": "code",
   "execution_count": 20,
   "metadata": {},
   "outputs": [],
   "source": [
    "cursor.execute('''CREATE TABLE standard_drug_outcome_drilldown (drug_concept_id INT(11) NULL DEFAULT NULL, \n",
    "                                                                outcome_concept_id INT(11) NULL DEFAULT NULL, \n",
    "                                                                snomed_outcome_concept_id INT(11) NULL DEFAULT NULL, \n",
    "                                                                primaryid VARCHAR(512) NULL DEFAULT NULL, \n",
    "                                                                isr VARCHAR(512) NULL DEFAULT NULL);''')"
   ]
  },
  {
   "cell_type": "code",
   "execution_count": 21,
   "metadata": {},
   "outputs": [],
   "source": [
    "cursor.execute('''CREATE TABLE standard_drug_outcome_statistics (drug_concept_id INT(11) NULL DEFAULT NULL, \n",
    "                                                    outcome_concept_id INT(11) NULL DEFAULT NULL, \n",
    "                                                    snomed_outcome_concept_id INT(11) NULL DEFAULT NULL, \n",
    "                                                    case_count BIGINT(20) NULL DEFAULT NULL, \n",
    "                                                    prr DECIMAL(20,5) NULL DEFAULT NULL, \n",
    "                                                    prr_95_percent_upper_confidence_limit DECIMAL(20,5) NULL DEFAULT NULL, \n",
    "                                                    prr_95_percent_lower_confidence_limit DECIMAL(20,5) NULL DEFAULT NULL, \n",
    "                                                    ror DECIMAL(20,5) NULL DEFAULT NULL, \n",
    "                                                    ror_95_percent_upper_confidence_limit DECIMAL(20,5) NULL DEFAULT NULL,\n",
    "                                                    ror_95_percent_lower_confidence_limit DECIMAL(20,5) NULL DEFAULT NULL);''')"
   ]
  },
  {
   "cell_type": "code",
   "execution_count": 22,
   "metadata": {},
   "outputs": [],
   "source": [
    "cursor.execute('''CREATE TABLE standard_unique_all_case (caseid VARCHAR(512) NULL DEFAULT NULL,\n",
    "                                                        primaryid VARCHAR(512) NULL DEFAULT NULL,\n",
    "                                                        isr VARCHAR(512) NULL DEFAULT NULL);''')"
   ]
  },
  {
   "cell_type": "markdown",
   "metadata": {},
   "source": [
    "`Total 11 tables were created....`"
   ]
  },
  {
   "cell_type": "code",
   "execution_count": 23,
   "metadata": {},
   "outputs": [
    {
     "name": "stdout",
     "output_type": "stream",
     "text": [
      "('concept',)\n",
      "('standard_case_drug',)\n",
      "('standard_case_indication',)\n",
      "('standard_case_outcome',)\n",
      "('standard_case_outcome_category',)\n",
      "('standard_drug_outcome_contingency_table',)\n",
      "('standard_drug_outcome_count',)\n",
      "('standard_drug_outcome_drilldown',)\n",
      "('standard_drug_outcome_statistics',)\n",
      "('standard_unique_all_case',)\n",
      "('vocabulary',)\n"
     ]
    }
   ],
   "source": [
    "cursor.execute(\"SHOW TABLES\")\n",
    "\n",
    "for table in cursor:\n",
    "    print(table)"
   ]
  },
  {
   "cell_type": "markdown",
   "metadata": {},
   "source": [
    "### **AEOLUS Data Loading into Sql**"
   ]
  },
  {
   "cell_type": "code",
   "execution_count": 24,
   "metadata": {},
   "outputs": [],
   "source": [
    "Conn = connector.connect(host=\"localhost\",\n",
    "                        user=\"root\",\n",
    "                        password=\"root\",\n",
    "                        database=\"drugs_db\",\n",
    "                        allow_local_infile=True)      # Note :  Without this line may face lots of issues.Most Important..\n",
    "\n",
    "cursor = Conn.cursor()"
   ]
  },
  {
   "cell_type": "code",
   "execution_count": 25,
   "metadata": {},
   "outputs": [],
   "source": [
    "cursor.execute('''LOAD DATA LOCAL INFILE 'aeolus_v1/concept.tsv' INTO TABLE concept FIELDS TERMINATED BY '\\t' LINES TERMINATED BY '\\n' IGNORE 0 LINES;''')"
   ]
  },
  {
   "cell_type": "code",
   "execution_count": 26,
   "metadata": {},
   "outputs": [],
   "source": [
    "cursor.execute('''LOAD DATA LOCAL INFILE 'aeolus_v1/vocabulary.tsv' INTO TABLE vocabulary FIELDS TERMINATED BY '\\t' LINES TERMINATED BY '\\n' IGNORE 0 LINES;''')"
   ]
  },
  {
   "cell_type": "code",
   "execution_count": 27,
   "metadata": {
    "scrolled": true
   },
   "outputs": [
    {
     "name": "stdout",
     "output_type": "stream",
     "text": [
      "('ABMS', 'Provider Specialty (American Board of Medical Specialties)', 'http://www.abms.org/member-boards/specialty-subspecialty-certificates', '', 45756746)\n",
      "('APC', 'Ambulatory Payment Classification (CMS)', 'http://www.cms.gov/Medicare/Medicare-Fee-for-Service-Payment/HospitalOutpatientPPS/Hospital-Outpatient-Regulations-and-Notices.html', '2011-28-09', 44819132)\n",
      "('ATC', 'WHO Anatomic Therapeutic Chemical Classification', 'FDB UK distribution package', 'RxNorm Full 20150706', 44819117)\n",
      "('CCS', 'Clinical Classifications Software for ICD-9-CM (HCUP)', 'http://www.hcup-us.ahrq.gov/toolssoftware/ccs/ccs.jsp#download', 'Not implemented yet', 44819142)\n",
      "('CIEL', 'Columbia International eHealth Laboratory (Columbia University)', 'https://wiki.openmrs.org/display/docs/Getting+and+Using+the+MVP-CIEL+Concept+Dictionary', 'Openmrs 1.11.0 20150227', 45905710)\n",
      "('Cohort', 'Legacy OMOP HOI or DOI cohort', 'OMOP generated', '', 44819123)\n",
      "('Cohort Type', 'OMOP Cohort Type', 'OMOP generated', '', 44819234)\n",
      "('Concept Class', 'OMOP Concept Class', 'OMOP generated', '', 44819233)\n",
      "('Condition Type', 'OMOP Condition Occurrence Type', 'OMOP generated', '', 44819127)\n",
      "('CPT4', 'Current Procedural Terminology version 4 (AMA)', 'http://www.nlm.nih.gov/research/umls/licensedcontent/umlsknowledgesources.html', '2014AB', 44819100)\n",
      "('Currency', 'International Currency Symbol (ISO 4217)', 'http://www.iso.org/iso/home/standards/currency_codes.htm', '2008', 44819153)\n",
      "('Death Type', 'OMOP Death Type', 'OMOP generated', '', 44819135)\n",
      "('Device Type', 'OMOP Device Type', 'OMOP generated', '', 44819151)\n",
      "('Domain', 'OMOP Domain', 'OMOP generated', '', 44819147)\n",
      "('DRG', 'Diagnosis-related group (CMS)', 'http://www.cms.gov/Medicare/Medicare-Fee-for-Service-Payment/AcuteInpatientPPS/Acute-Inpatient-Files-for-Download.html', '2011-18-02', 44819130)\n",
      "('Drug Type', 'OMOP Drug Exposure Type', 'OMOP generated', '', 44819126)\n",
      "('ETC', 'Enhanced Therapeutic Classification (FDB)', 'FDB US distribution package', '2013-20-06', 44819116)\n",
      "('Ethnicity', 'OMOP Ethnicity', 'OMOP generated', '', 44819134)\n",
      "('Gemscript', 'Gemscript NHS dictionary of medicine and devices (NHS)', 'Codes extracted from GPRD database, courtesy of J&J', '2013 Release', 44819144)\n",
      "('Gender', 'OMOP Gender', 'OMOP generated', '', 44819108)\n",
      "('Genseqno', 'Generic sequence number (FDB)', 'FDB US distribution package', '2011-25-08', 44819141)\n",
      "('GPI', 'Medi-Span Generic Product Identifier (Wolters Kluwer Health)', 'Medi-Span distribution package', 'RXNORM CROSS REFERENCE 15.2.1.002', 44819106)\n",
      "('HCPCS', 'Healthcare Common Procedure Coding System (CMS)', 'http://www.nlm.nih.gov/research/umls/licensedcontent/umlsknowledgesources.html', '2015 Annual Alpha Numeric HCPCS File', 44819101)\n",
      "('HES Specialty', 'Hospital Episode Statistics Specialty (NHS)', 'http://www.datadictionary.nhs.uk/data_dictionary/attributes/m/main_specialty_code_de.asp?shownav=0', 'Not implemented yet', 44819145)\n",
      "('ICD10', 'International Classification of Diseases, 10th Revision, (WHO)', 'http://www.who.int/classifications/icd/icdonlineversions/en/', '2014 Release', 44819124)\n",
      "('ICD10CM', 'International Classification of Diseases, 10th Revision, Clinical Modification (NCHS)', 'http://www.cdc.gov/nchs/icd/icd10cm.htm', 'Not implemented yet', 44819124)\n",
      "('ICD10PCS', 'ICD-10 Procedure Coding System (CMS)', 'http://www.cms.gov/Medicare/Coding/ICD10/index.html', '2011-08-06', 44819125)\n",
      "('ICD9CM', 'International Classification of Diseases, Ninth Revision, Clinical Modification, Volume 1 and 2 (NCHS)', 'http://www.cms.gov/Medicare/Coding/ICD9ProviderDiagnosticCodes/codes.html', 'ICD9CM v32 master descriptions', 44819098)\n",
      "('ICD9Proc', 'International Classification of Diseases, Ninth Revision, Clinical Modification, Volume 3 (NCHS)', 'http://www.cms.gov/Medicare/Coding/ICD9ProviderDiagnosticCodes/codes.html', 'ICD9CM v32 master descriptions', 44819099)\n",
      "('Indication', 'Indications and Contraindications (FDB)', 'FDB US distribution package', '2013-20-06', 44819115)\n",
      "('LOINC', 'Logical Observation Identifiers Names and Codes (Regenstrief Institute)', 'http://loinc.org/downloads/loinc', 'LOINC 2.52', 44819102)\n",
      "('MDC', 'Major Diagnostic Categories (CMS)', 'http://www.cms.gov/Medicare/Medicare-Fee-for-Service-Payment/AcuteInpatientPPS/Acute-Inpatient-Files-for-Download.html', '2013-01-06', 44819131)\n",
      "('Meas Type', 'OMOP Measurement Type', 'OMOP generated', '', 44819152)\n",
      "('MedDRA', 'Medical Dictionary for Regulatory Activities (MSSO)', 'http://www.meddramsso.com/subscriber_download.asp', 'MedDRA version 18.0', 44819111)\n",
      "('MeSH', 'Medical Subject Headings (NLM)', 'http://www.nlm.nih.gov/research/umls/licensedcontent/umlsknowledgesources.html', '2015 Release', 44819136)\n",
      "('Multilex', 'Multilex (FDB)', 'http://www.nlm.nih.gov/research/umls/rxnorm/docs/rxnormfiles.html', '2013-05-06', 44819118)\n",
      "('Multum', 'Cerner Multum (Cerner)', 'http://www.nlm.nih.gov/research/umls/rxnorm/docs/rxnormfiles.html', '2013-07-10', 44819112)\n",
      "('NDC', 'National Drug Code (FDA and manufacturers)', 'http://www.nlm.nih.gov/research/umls/rxnorm/docs/rxnormfiles.html, http://www.fda.gov/downloads/Drugs/DevelopmentApprovalProcess/UCM070838.zip', 'NDC 20150708', 44819105)\n",
      "('NDFRT', 'National Drug File - Reference Terminology (VA)', 'http://www.nlm.nih.gov/research/umls/rxnorm/docs/rxnormfiles.html', 'RxNorm Full 20150706', 44819103)\n",
      "('None', 'OMOP Standardized Vocabularies', 'OMOP generated', 'v5.0 17-JUL-15', 44819096)\n",
      "('Note Type', 'OMOP Note Type', 'OMOP generated', '', 44819146)\n",
      "('NUCC', 'National Uniform Claim Committee Health Care Provider Taxonomy Code Set (NUCC)', 'http://www.nucc.org/index.php?option=com_content&view=article&id=107&Itemid=132', '2013-07-01', 44819137)\n",
      "('Obs Period Type', 'OMOP Observation Period Type', 'OMOP generated', '', 44819149)\n",
      "('Observation Type', 'OMOP Observation Type', 'OMOP generated', '', 44819129)\n",
      "('OPCS4', 'OPCS Classification of Interventions and Procedures version 4 (NHS)', 'http://systems.hscic.gov.uk/data/clinicalcoding/codingstandards/opcs4', 'OPCS4 nhs_dmwb_19.0.1_20150401000001', 44819143)\n",
      "('OXMIS', 'Oxford Medical Information System (OCHP)', 'Codes extracted from GPRD database, courtesy of GSK', '', 44819114)\n",
      "('PCORNet', 'National Patient-Centered Clinical Research Network (PCORI)', 'OMOP generated', '', 44819148)\n",
      "('Place of Service', 'Place of Service Codes for Professional Claims (CMS)', 'http://www.cms.gov/Medicare/Medicare-Fee-for-Service-Payment/PhysicianFeeSched/downloads//Website_POS_database.pdf', '2009-01-11', 44819110)\n",
      "('Procedure Type', 'OMOP Procedure Occurrence Type', 'OMOP generated', '', 44819128)\n",
      "('Race', 'Race and Ethnicity Code Set (USBC)', 'http://www.cdc.gov/nchs/data/dvs/Race_Ethnicity_CodeSet.pdf', 'Version 1.0', 44819109)\n",
      "('Read', 'NHS UK Read Codes Version 2 (HSCIC)', 'http://www.nlm.nih.gov/research/umls/licensedcontent/umlsknowledgesources.html', 'NHS READV2 19.0.2 20150326000001', 44819113)\n",
      "('Relationship', 'OMOP Relationship', 'OMOP generated', '', 44819235)\n",
      "('Revenue Code', 'UB04/CMS1450 Revenue Codes (CMS)', 'http://www.mpca.net/?page=ERC_finance', '2010 Release', 44819133)\n",
      "('RxNorm', 'RxNorm (NLM)', 'http://www.nlm.nih.gov/research/umls/rxnorm/docs/rxnormfiles.html', 'RxNorm Full 20150706', 44819104)\n",
      "('SMQ', 'Standardised MedDRA Queries (MSSO)', 'http://www.meddramsso.com/secure/smq/SMQ_Spreadsheet_14_0_English_update.xlsx', 'Version 14.0', 44819121)\n",
      "('SNOMED', 'Systematic Nomenclature of Medicine - Clinical Terms (IHDSTO)', 'http://www.nlm.nih.gov/research/umls/licensedcontent/umlsknowledgesources.html', 'SnomedCT Release INT 20150131', 44819097)\n",
      "('Specialty', 'Medicare provider/supplier specialty codes (CMS)', 'http://www.cms.gov/Medicare/Provider-Enrollment-and-Certification/MedicareProviderSupEnroll/Taxonomy.html', '', 44819138)\n",
      "('SPL', 'Structured Product Labeling (FDA)', 'http://www.fda.gov/Drugs/InformationOnDrugs/ucm142438.htm', 'NDC 20150708', 44819140)\n",
      "('UCUM', 'Unified Code for Units of Measure (Regenstrief Institute)', 'http://aurora.regenstrief.org/~ucum/ucum.html#section-Alphabetic-Index', 'Version 1.8.2', 44819107)\n",
      "('VA Class', 'VA National Drug File Class (VA)', 'http://www.nlm.nih.gov/research/umls/rxnorm/docs/rxnormfiles.html', 'RxNorm Full 20150706', 44819122)\n",
      "('VA Product', 'VA National Drug File Product (VA)', 'http://www.nlm.nih.gov/research/umls/rxnorm/docs/rxnormfiles.html', 'RxNorm Full 20150706', 44819120)\n",
      "('Visit', 'OMOP Visit', 'OMOP generated', '', 44819119)\n",
      "('Visit Type', 'OMOP Visit Type', 'OMOP generated', '', 44819150)\n",
      "('Vocabulary', 'OMOP Vocabulary', 'OMOP generated', '', 44819232)\n"
     ]
    }
   ],
   "source": [
    "cursor.execute('SELECT * FROM VOCABULARY')\n",
    "\n",
    "for records in cursor:\n",
    "    print(records)"
   ]
  },
  {
   "cell_type": "code",
   "execution_count": 28,
   "metadata": {},
   "outputs": [],
   "source": [
    "cursor.execute('''LOAD DATA LOCAL INFILE 'aeolus_v1/standard_case_drug.tsv' INTO TABLE standard_case_drug \n",
    "                FIELDS TERMINATED BY '\\t' LINES TERMINATED BY '\\n' IGNORE 0 LINES;''')"
   ]
  },
  {
   "cell_type": "code",
   "execution_count": 29,
   "metadata": {},
   "outputs": [],
   "source": [
    "cursor.execute('''LOAD DATA LOCAL INFILE 'aeolus_v1/standard_case_indication.tsv' INTO TABLE standard_case_indication \n",
    "                FIELDS TERMINATED BY '\\t' LINES TERMINATED BY '\\n' IGNORE 0 LINES;''')"
   ]
  },
  {
   "cell_type": "code",
   "execution_count": 30,
   "metadata": {},
   "outputs": [],
   "source": [
    "cursor.execute('''LOAD DATA LOCAL INFILE 'aeolus_v1/standard_case_outcome.tsv' INTO TABLE standard_case_outcome \n",
    "                FIELDS TERMINATED BY '\\t' LINES TERMINATED BY '\\n' IGNORE 0 LINES;''')\n"
   ]
  },
  {
   "cell_type": "code",
   "execution_count": 31,
   "metadata": {},
   "outputs": [],
   "source": [
    "cursor.execute('''LOAD DATA LOCAL INFILE 'aeolus_v1/standard_case_outcome_category.tsv' INTO TABLE standard_case_outcome_category \n",
    "                FIELDS TERMINATED BY '\\t' LINES TERMINATED BY '\\n' IGNORE 0 LINES;''')"
   ]
  },
  {
   "cell_type": "code",
   "execution_count": 32,
   "metadata": {},
   "outputs": [],
   "source": [
    "cursor.execute('''LOAD DATA LOCAL INFILE 'aeolus_v1/standard_drug_outcome_contingency_table.tsv' INTO TABLE standard_drug_outcome_contingency_table \n",
    "                FIELDS TERMINATED BY '\\t' LINES TERMINATED BY '\\n' IGNORE 0 LINES;''')"
   ]
  },
  {
   "cell_type": "code",
   "execution_count": 33,
   "metadata": {},
   "outputs": [],
   "source": [
    "cursor.execute('''LOAD DATA LOCAL INFILE 'aeolus_v1/standard_drug_outcome_count.tsv' INTO TABLE standard_drug_outcome_count \n",
    "                FIELDS TERMINATED BY '\\t' LINES TERMINATED BY '\\n' IGNORE 0 LINES;''')"
   ]
  },
  {
   "cell_type": "code",
   "execution_count": 34,
   "metadata": {},
   "outputs": [],
   "source": [
    "cursor.execute('''LOAD DATA LOCAL INFILE'aeolus_v1/standard_drug_outcome_drilldown.tsv' INTO TABLE standard_drug_outcome_drilldown \n",
    "                FIELDS TERMINATED BY '\\t' LINES TERMINATED BY '\\n' IGNORE 0 LINES;''')"
   ]
  },
  {
   "cell_type": "code",
   "execution_count": 35,
   "metadata": {},
   "outputs": [],
   "source": [
    "cursor.execute('''LOAD DATA LOCAL INFILE 'aeolus_v1/standard_drug_outcome_statistics.tsv' INTO TABLE standard_drug_outcome_statistics \n",
    "                    FIELDS TERMINATED BY '\\t' LINES TERMINATED BY '\\n' IGNORE 0 LINES;''')"
   ]
  }
 ],
 "metadata": {
  "kernelspec": {
   "display_name": "Python 3",
   "language": "python",
   "name": "python3"
  },
  "language_info": {
   "codemirror_mode": {
    "name": "ipython",
    "version": 3
   },
   "file_extension": ".py",
   "mimetype": "text/x-python",
   "name": "python",
   "nbconvert_exporter": "python",
   "pygments_lexer": "ipython3",
   "version": "3.7.1"
  }
 },
 "nbformat": 4,
 "nbformat_minor": 4
}
