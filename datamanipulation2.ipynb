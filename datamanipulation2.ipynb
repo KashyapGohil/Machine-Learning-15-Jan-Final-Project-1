{
 "cells": [
  {
   "cell_type": "code",
   "execution_count": 1,
   "metadata": {},
   "outputs": [],
   "source": [
    "from mysql import connector"
   ]
  },
  {
   "cell_type": "markdown",
   "metadata": {},
   "source": [
    "**Steps :**\n",
    "\n",
    "`Download MySql Workbench ` [Click Here](https://dev.mysql.com/downloads/workbench/)\n",
    "\n",
    "`Open MySql Workbench and Open MySql connector`\n",
    "\n",
    "`On MyConnections click (+) symbol to create new connection`\n",
    "\n",
    "`Add username and click on` **store in password vault** `for password`"
   ]
  },
  {
   "cell_type": "markdown",
   "metadata": {},
   "source": [
    "### Connecting MySql with our Credentials.."
   ]
  },
  {
   "cell_type": "markdown",
   "metadata": {},
   "source": [
    "> `Use those crediantials here to connect..`"
   ]
  },
  {
   "cell_type": "code",
   "execution_count": 2,
   "metadata": {},
   "outputs": [],
   "source": [
    "Conn = connector.connect(host=\"localhost\",\n",
    "                        user=\"root\",\n",
    "                        password=\"\")"
   ]
  },
  {
   "cell_type": "code",
   "execution_count": 3,
   "metadata": {},
   "outputs": [
    {
     "data": {
      "text/plain": [
       "<mysql.connector.connection_cext.CMySQLConnection at 0x260f80edcc8>"
      ]
     },
     "execution_count": 3,
     "metadata": {},
     "output_type": "execute_result"
    }
   ],
   "source": [
    "Conn"
   ]
  },
  {
   "cell_type": "markdown",
   "metadata": {},
   "source": [
    "### Creating Cursor Object for Executing Sql Commands"
   ]
  },
  {
   "cell_type": "code",
   "execution_count": 4,
   "metadata": {},
   "outputs": [],
   "source": [
    "cursor = Conn.cursor()"
   ]
  },
  {
   "cell_type": "code",
   "execution_count": 5,
   "metadata": {},
   "outputs": [
    {
     "name": "stdout",
     "output_type": "stream",
     "text": [
      "('carrental',)\n",
      "('demos',)\n",
      "('drugs_db',)\n",
      "('information_schema',)\n",
      "('multi_login',)\n",
      "('mysql',)\n",
      "('performance_schema',)\n",
      "('phpmyadmin',)\n",
      "('predictseve',)\n",
      "('products',)\n",
      "('surya',)\n",
      "('test',)\n",
      "('tutorial_search',)\n"
     ]
    }
   ],
   "source": [
    "cursor.execute(\"SHOW DATABASES\")\n",
    "\n",
    "for x in cursor:\n",
    "    print(x)"
   ]
  },
  {
   "cell_type": "markdown",
   "metadata": {},
   "source": [
    "### By Default there are some databases, to create customdatabase use sql command `CREATE DATABASE dbname`"
   ]
  },
  {
   "cell_type": "code",
   "execution_count": null,
   "metadata": {},
   "outputs": [],
   "source": [
    "cursor.execute(\"CREATE DATABASE drugs_db\")"
   ]
  },
  {
   "cell_type": "code",
   "execution_count": 6,
   "metadata": {},
   "outputs": [
    {
     "name": "stdout",
     "output_type": "stream",
     "text": [
      "('carrental',)\n",
      "('demos',)\n",
      "('drugs_db',)\n",
      "('information_schema',)\n",
      "('multi_login',)\n",
      "('mysql',)\n",
      "('performance_schema',)\n",
      "('phpmyadmin',)\n",
      "('predictseve',)\n",
      "('products',)\n",
      "('surya',)\n",
      "('test',)\n",
      "('tutorial_search',)\n"
     ]
    }
   ],
   "source": [
    "cursor.execute(\"SHOW DATABASES\")\n",
    "\n",
    "for x in cursor:\n",
    "    print(x)"
   ]
  },
  {
   "cell_type": "markdown",
   "metadata": {},
   "source": [
    "`Here we can see our database tc_db`"
   ]
  },
  {
   "cell_type": "code",
   "execution_count": 7,
   "metadata": {},
   "outputs": [],
   "source": [
    "cursor.execute(\"USE drugs_db\")"
   ]
  },
  {
   "cell_type": "markdown",
   "metadata": {},
   "source": [
    "`Above we are Selecting the created database as the active one`"
   ]
  },
  {
   "cell_type": "code",
   "execution_count": null,
   "metadata": {},
   "outputs": [],
   "source": [
    "cursor.execute('''CREATE TABLE concept(concept_id INT(11) NOT NULL, \n",
    "                                    concept_name VARCHAR(255) NOT NULL, \n",
    "                                    domain_id VARCHAR(20) NOT NULL, \n",
    "                                    vocabulary_id VARCHAR(20) NOT NULL, \n",
    "                                    concept_class_id VARCHAR(20) NOT NULL,\n",
    "                                    standard_concept VARCHAR(1) NULL DEFAULT NULL, \n",
    "                                    concept_code VARCHAR(50) NOT NULL,\n",
    "                                    valid_start_date DATE NOT NULL,\n",
    "                                    valid_end_date DATE NOT NULL,\n",
    "                                    invalid_reason VARCHAR(1) NULL DEFAULT NULL);''')"
   ]
  },
  {
   "cell_type": "code",
   "execution_count": 11,
   "metadata": {},
   "outputs": [
    {
     "name": "stdout",
     "output_type": "stream",
     "text": [
      "('concept',)\n",
      "('standard_case_drug',)\n",
      "('standard_case_indication',)\n",
      "('standard_case_outcome',)\n",
      "('standard_case_outcome_category',)\n",
      "('standard_drug_outcome_contingency_table',)\n",
      "('standard_drug_outcome_count',)\n",
      "('standard_drug_outcome_drilldown',)\n",
      "('standard_drug_outcome_statistics',)\n",
      "('standard_unique_all_case',)\n",
      "('vocabulary',)\n"
     ]
    }
   ],
   "source": [
    "cursor.execute(\"SHOW TABLES\")\n",
    "\n",
    "for x in cursor:\n",
    "    print(x)"
   ]
  },
  {
   "cell_type": "markdown",
   "metadata": {},
   "source": [
    "`Here we got our concept table.Let's start creating all other remaining tables....`"
   ]
  },
  {
   "cell_type": "code",
   "execution_count": 14,
   "metadata": {},
   "outputs": [],
   "source": [
    "cursor.execute('''CREATE TABLE vocabulary (vocabulary_id VARCHAR(20) NOT NULL,\n",
    "                                           vocabulary_name VARCHAR(255) NOT NULL, \n",
    "                                           vocabulary_reference VARCHAR(255) NULL DEFAULT NULL, \n",
    "                                           vocabulary_version VARCHAR(255) NULL DEFAULT NULL, \n",
    "                                           vocabulary_concept_id INT(11) NOT NULL);''')"
   ]
  },
  {
   "cell_type": "code",
   "execution_count": 15,
   "metadata": {},
   "outputs": [],
   "source": [
    "cursor.execute('''CREATE TABLE standard_case_drug (primaryid VARCHAR(512) NULL DEFAULT NULL, \n",
    "                                                   isr VARCHAR(512) NULL DEFAULT NULL, \n",
    "                                                   drug_seq VARCHAR(512) NULL DEFAULT NULL, \n",
    "                                                   role_cod VARCHAR(512) NULL DEFAULT NULL, \n",
    "                                                   standard_concept_id INT(11) NULL DEFAULT NULL);''')"
   ]
  },
  {
   "cell_type": "code",
   "execution_count": 16,
   "metadata": {},
   "outputs": [],
   "source": [
    "cursor.execute('''CREATE TABLE standard_case_indication (primaryid VARCHAR(512) NULL DEFAULT NULL, \n",
    "                                                        isr VARCHAR(512) NULL DEFAULT NULL, \n",
    "                                                        indi_drug_seq VARCHAR(512) NULL DEFAULT NULL, \n",
    "                                                        indi_pt VARCHAR(512) NULL DEFAULT NULL, \n",
    "                                                        indication_concept_id INT(11) NULL DEFAULT NULL, \n",
    "                                                        snomed_indication_concept_id INT(11) NULL DEFAULT NULL);''')"
   ]
  },
  {
   "cell_type": "code",
   "execution_count": 17,
   "metadata": {},
   "outputs": [],
   "source": [
    "cursor.execute('''CREATE TABLE standard_case_outcome (primaryid VARCHAR(512) NULL DEFAULT NULL, \n",
    "                                                      isr VARCHAR(512) NULL DEFAULT NULL, \n",
    "                                                      pt VARCHAR(512) NULL DEFAULT NULL, \n",
    "                                                      outcome_concept_id INT(11) NULL DEFAULT NULL,\n",
    "                                                      snomed_outcome_concept_id INT(11) NULL DEFAULT NULL);''')"
   ]
  },
  {
   "cell_type": "code",
   "execution_count": 18,
   "metadata": {},
   "outputs": [],
   "source": [
    "cursor.execute('''CREATE TABLE standard_case_outcome_category (primaryid VARCHAR(512) NULL DEFAULT NULL, \n",
    "                                                               isr VARCHAR(512) NULL DEFAULT NULL,\n",
    "                                                               outc_code VARCHAR(512) NULL DEFAULT NULL, \n",
    "                                                               snomed_concept_id INT(11) NULL DEFAULT NULL);''')"
   ]
  },
  {
   "cell_type": "code",
   "execution_count": 19,
   "metadata": {},
   "outputs": [],
   "source": [
    "cursor.execute('''CREATE TABLE standard_drug_outcome_contingency_table (drug_concept_id INT(11) NULL DEFAULT NULL, \n",
    "                                                                        outcome_concept_id INT(11) NULL DEFAULT NULL, \n",
    "                                                                        count_a BIGINT(20) NULL DEFAULT NULL, \n",
    "                                                                        count_b DECIMAL(10,0) NULL DEFAULT NULL, \n",
    "                                                                        count_c DECIMAL(10,0) NULL DEFAULT NULL, \n",
    "                                                                        count_d DECIMAL(10,0) NULL DEFAULT NULL);''')"
   ]
  },
  {
   "cell_type": "code",
   "execution_count": 20,
   "metadata": {},
   "outputs": [],
   "source": [
    "cursor.execute('''CREATE TABLE standard_drug_outcome_count (drug_concept_id INT(11) NULL DEFAULT NULL, \n",
    "                                                            outcome_concept_id INT(11) NULL DEFAULT NULL, \n",
    "                                                            drug_outcome_pair_count BIGINT(20) NULL DEFAULT NULL, \n",
    "                                                            snomed_outcome_concept_id INT(11) NULL DEFAULT NULL);''')"
   ]
  },
  {
   "cell_type": "code",
   "execution_count": 21,
   "metadata": {},
   "outputs": [],
   "source": [
    "cursor.execute('''CREATE TABLE standard_drug_outcome_drilldown (drug_concept_id INT(11) NULL DEFAULT NULL, \n",
    "                                                                outcome_concept_id INT(11) NULL DEFAULT NULL, \n",
    "                                                                snomed_outcome_concept_id INT(11) NULL DEFAULT NULL, \n",
    "                                                                primaryid VARCHAR(512) NULL DEFAULT NULL, \n",
    "                                                                isr VARCHAR(512) NULL DEFAULT NULL);''')"
   ]
  },
  {
   "cell_type": "code",
   "execution_count": 22,
   "metadata": {},
   "outputs": [],
   "source": [
    "cursor.execute('''CREATE TABLE standard_drug_outcome_statistics (drug_concept_id INT(11) NULL DEFAULT NULL, \n",
    "                                                    outcome_concept_id INT(11) NULL DEFAULT NULL, \n",
    "                                                    snomed_outcome_concept_id INT(11) NULL DEFAULT NULL, \n",
    "                                                    case_count BIGINT(20) NULL DEFAULT NULL, \n",
    "                                                    prr DECIMAL(20,5) NULL DEFAULT NULL, \n",
    "                                                    prr_95_percent_upper_confidence_limit DECIMAL(20,5) NULL DEFAULT NULL, \n",
    "                                                    prr_95_percent_lower_confidence_limit DECIMAL(20,5) NULL DEFAULT NULL, \n",
    "                                                    ror DECIMAL(20,5) NULL DEFAULT NULL, \n",
    "                                                    ror_95_percent_upper_confidence_limit DECIMAL(20,5) NULL DEFAULT NULL,\n",
    "                                                    ror_95_percent_lower_confidence_limit DECIMAL(20,5) NULL DEFAULT NULL);''')"
   ]
  },
  {
   "cell_type": "code",
   "execution_count": 23,
   "metadata": {},
   "outputs": [],
   "source": [
    "cursor.execute('''CREATE TABLE standard_unique_all_case (caseid VARCHAR(512) NULL DEFAULT NULL,\n",
    "                                                        primaryid VARCHAR(512) NULL DEFAULT NULL,\n",
    "                                                        isr VARCHAR(512) NULL DEFAULT NULL);''')"
   ]
  },
  {
   "cell_type": "markdown",
   "metadata": {},
   "source": [
    "`Total 11 tables were created....`"
   ]
  },
  {
   "cell_type": "code",
   "execution_count": 12,
   "metadata": {},
   "outputs": [
    {
     "name": "stdout",
     "output_type": "stream",
     "text": [
      "('concept',)\n",
      "('standard_case_drug',)\n",
      "('standard_case_indication',)\n",
      "('standard_case_outcome',)\n",
      "('standard_case_outcome_category',)\n",
      "('standard_drug_outcome_contingency_table',)\n",
      "('standard_drug_outcome_count',)\n",
      "('standard_drug_outcome_drilldown',)\n",
      "('standard_drug_outcome_statistics',)\n",
      "('standard_unique_all_case',)\n",
      "('vocabulary',)\n"
     ]
    }
   ],
   "source": [
    "cursor.execute(\"SHOW TABLES\")\n",
    "\n",
    "for table in cursor:\n",
    "    print(table)"
   ]
  },
  {
   "cell_type": "markdown",
   "metadata": {},
   "source": [
    "### **AEOLUS Data Loading into Sql**"
   ]
  },
  {
   "cell_type": "code",
   "execution_count": 9,
   "metadata": {},
   "outputs": [],
   "source": [
    "Conn = connector.connect(host=\"localhost\",\n",
    "                        user=\"root\",\n",
    "                        password=\"\",\n",
    "                        database=\"drugs_db\",\n",
    "                        allow_local_infile=True)      # Note :  Without this line may face lots of issues.Most Important..\n",
    "\n",
    "cursor = Conn.cursor()"
   ]
  },
  {
   "cell_type": "code",
   "execution_count": 10,
   "metadata": {},
   "outputs": [],
   "source": [
    "cursor.execute('''LOAD DATA LOCAL INFILE 'C:/Users/acer/desktop/aeolus_v1/concept.tsv' INTO TABLE concept FIELDS TERMINATED BY '\\t' LINES TERMINATED BY '\\n' IGNORE 0 LINES;''')"
   ]
  },
  {
   "cell_type": "code",
   "execution_count": 11,
   "metadata": {},
   "outputs": [],
   "source": [
    "cursor.execute('''LOAD DATA LOCAL INFILE 'C:/Users/acer/desktop/aeolus_v1/vocabulary.tsv' INTO TABLE vocabulary FIELDS TERMINATED BY '\\t' LINES TERMINATED BY '\\n' IGNORE 0 LINES;''')"
   ]
  },
  {
   "cell_type": "code",
   "execution_count": 8,
   "metadata": {
    "scrolled": true
   },
   "outputs": [
    {
     "name": "stdout",
     "output_type": "stream",
     "text": [
      "('ABMS', 'Provider Specialty (American Board of Medical Specialties)', 'http://www.abms.org/member-boards/specialty-subspecialty-certificates', '', 45756746)\n",
      "('APC', 'Ambulatory Payment Classification (CMS)', 'http://www.cms.gov/Medicare/Medicare-Fee-for-Service-Payment/HospitalOutpatientPPS/Hospital-Outpatient-Regulations-and-Notices.html', '2011-28-09', 44819132)\n",
      "('ATC', 'WHO Anatomic Therapeutic Chemical Classification', 'FDB UK distribution package', 'RxNorm Full 20150706', 44819117)\n",
      "('CCS', 'Clinical Classifications Software for ICD-9-CM (HCUP)', 'http://www.hcup-us.ahrq.gov/toolssoftware/ccs/ccs.jsp#download', 'Not implemented yet', 44819142)\n",
      "('CIEL', 'Columbia International eHealth Laboratory (Columbia University)', 'https://wiki.openmrs.org/display/docs/Getting+and+Using+the+MVP-CIEL+Concept+Dictionary', 'Openmrs 1.11.0 20150227', 45905710)\n",
      "('Cohort', 'Legacy OMOP HOI or DOI cohort', 'OMOP generated', '', 44819123)\n",
      "('Cohort Type', 'OMOP Cohort Type', 'OMOP generated', '', 44819234)\n",
      "('Concept Class', 'OMOP Concept Class', 'OMOP generated', '', 44819233)\n",
      "('Condition Type', 'OMOP Condition Occurrence Type', 'OMOP generated', '', 44819127)\n",
      "('CPT4', 'Current Procedural Terminology version 4 (AMA)', 'http://www.nlm.nih.gov/research/umls/licensedcontent/umlsknowledgesources.html', '2014AB', 44819100)\n",
      "('Currency', 'International Currency Symbol (ISO 4217)', 'http://www.iso.org/iso/home/standards/currency_codes.htm', '2008', 44819153)\n",
      "('Death Type', 'OMOP Death Type', 'OMOP generated', '', 44819135)\n",
      "('Device Type', 'OMOP Device Type', 'OMOP generated', '', 44819151)\n",
      "('Domain', 'OMOP Domain', 'OMOP generated', '', 44819147)\n",
      "('DRG', 'Diagnosis-related group (CMS)', 'http://www.cms.gov/Medicare/Medicare-Fee-for-Service-Payment/AcuteInpatientPPS/Acute-Inpatient-Files-for-Download.html', '2011-18-02', 44819130)\n",
      "('Drug Type', 'OMOP Drug Exposure Type', 'OMOP generated', '', 44819126)\n",
      "('ETC', 'Enhanced Therapeutic Classification (FDB)', 'FDB US distribution package', '2013-20-06', 44819116)\n",
      "('Ethnicity', 'OMOP Ethnicity', 'OMOP generated', '', 44819134)\n",
      "('Gemscript', 'Gemscript NHS dictionary of medicine and devices (NHS)', 'Codes extracted from GPRD database, courtesy of J&J', '2013 Release', 44819144)\n",
      "('Gender', 'OMOP Gender', 'OMOP generated', '', 44819108)\n",
      "('Genseqno', 'Generic sequence number (FDB)', 'FDB US distribution package', '2011-25-08', 44819141)\n",
      "('GPI', 'Medi-Span Generic Product Identifier (Wolters Kluwer Health)', 'Medi-Span distribution package', 'RXNORM CROSS REFERENCE 15.2.1.002', 44819106)\n",
      "('HCPCS', 'Healthcare Common Procedure Coding System (CMS)', 'http://www.nlm.nih.gov/research/umls/licensedcontent/umlsknowledgesources.html', '2015 Annual Alpha Numeric HCPCS File', 44819101)\n",
      "('HES Specialty', 'Hospital Episode Statistics Specialty (NHS)', 'http://www.datadictionary.nhs.uk/data_dictionary/attributes/m/main_specialty_code_de.asp?shownav=0', 'Not implemented yet', 44819145)\n",
      "('ICD10', 'International Classification of Diseases, 10th Revision, (WHO)', 'http://www.who.int/classifications/icd/icdonlineversions/en/', '2014 Release', 44819124)\n",
      "('ICD10CM', 'International Classification of Diseases, 10th Revision, Clinical Modification (NCHS)', 'http://www.cdc.gov/nchs/icd/icd10cm.htm', 'Not implemented yet', 44819124)\n",
      "('ICD10PCS', 'ICD-10 Procedure Coding System (CMS)', 'http://www.cms.gov/Medicare/Coding/ICD10/index.html', '2011-08-06', 44819125)\n",
      "('ICD9CM', 'International Classification of Diseases, Ninth Revision, Clinical Modification, Volume 1 and 2 (NCHS)', 'http://www.cms.gov/Medicare/Coding/ICD9ProviderDiagnosticCodes/codes.html', 'ICD9CM v32 master descriptions', 44819098)\n",
      "('ICD9Proc', 'International Classification of Diseases, Ninth Revision, Clinical Modification, Volume 3 (NCHS)', 'http://www.cms.gov/Medicare/Coding/ICD9ProviderDiagnosticCodes/codes.html', 'ICD9CM v32 master descriptions', 44819099)\n",
      "('Indication', 'Indications and Contraindications (FDB)', 'FDB US distribution package', '2013-20-06', 44819115)\n",
      "('LOINC', 'Logical Observation Identifiers Names and Codes (Regenstrief Institute)', 'http://loinc.org/downloads/loinc', 'LOINC 2.52', 44819102)\n",
      "('MDC', 'Major Diagnostic Categories (CMS)', 'http://www.cms.gov/Medicare/Medicare-Fee-for-Service-Payment/AcuteInpatientPPS/Acute-Inpatient-Files-for-Download.html', '2013-01-06', 44819131)\n",
      "('Meas Type', 'OMOP Measurement Type', 'OMOP generated', '', 44819152)\n",
      "('MedDRA', 'Medical Dictionary for Regulatory Activities (MSSO)', 'http://www.meddramsso.com/subscriber_download.asp', 'MedDRA version 18.0', 44819111)\n",
      "('MeSH', 'Medical Subject Headings (NLM)', 'http://www.nlm.nih.gov/research/umls/licensedcontent/umlsknowledgesources.html', '2015 Release', 44819136)\n",
      "('Multilex', 'Multilex (FDB)', 'http://www.nlm.nih.gov/research/umls/rxnorm/docs/rxnormfiles.html', '2013-05-06', 44819118)\n",
      "('Multum', 'Cerner Multum (Cerner)', 'http://www.nlm.nih.gov/research/umls/rxnorm/docs/rxnormfiles.html', '2013-07-10', 44819112)\n",
      "('NDC', 'National Drug Code (FDA and manufacturers)', 'http://www.nlm.nih.gov/research/umls/rxnorm/docs/rxnormfiles.html, http://www.fda.gov/downloads/Drugs/DevelopmentApprovalProcess/UCM070838.zip', 'NDC 20150708', 44819105)\n",
      "('NDFRT', 'National Drug File - Reference Terminology (VA)', 'http://www.nlm.nih.gov/research/umls/rxnorm/docs/rxnormfiles.html', 'RxNorm Full 20150706', 44819103)\n",
      "('None', 'OMOP Standardized Vocabularies', 'OMOP generated', 'v5.0 17-JUL-15', 44819096)\n",
      "('Note Type', 'OMOP Note Type', 'OMOP generated', '', 44819146)\n",
      "('NUCC', 'National Uniform Claim Committee Health Care Provider Taxonomy Code Set (NUCC)', 'http://www.nucc.org/index.php?option=com_content&view=article&id=107&Itemid=132', '2013-07-01', 44819137)\n",
      "('Obs Period Type', 'OMOP Observation Period Type', 'OMOP generated', '', 44819149)\n",
      "('Observation Type', 'OMOP Observation Type', 'OMOP generated', '', 44819129)\n",
      "('OPCS4', 'OPCS Classification of Interventions and Procedures version 4 (NHS)', 'http://systems.hscic.gov.uk/data/clinicalcoding/codingstandards/opcs4', 'OPCS4 nhs_dmwb_19.0.1_20150401000001', 44819143)\n",
      "('OXMIS', 'Oxford Medical Information System (OCHP)', 'Codes extracted from GPRD database, courtesy of GSK', '', 44819114)\n",
      "('PCORNet', 'National Patient-Centered Clinical Research Network (PCORI)', 'OMOP generated', '', 44819148)\n",
      "('Place of Service', 'Place of Service Codes for Professional Claims (CMS)', 'http://www.cms.gov/Medicare/Medicare-Fee-for-Service-Payment/PhysicianFeeSched/downloads//Website_POS_database.pdf', '2009-01-11', 44819110)\n",
      "('Procedure Type', 'OMOP Procedure Occurrence Type', 'OMOP generated', '', 44819128)\n",
      "('Race', 'Race and Ethnicity Code Set (USBC)', 'http://www.cdc.gov/nchs/data/dvs/Race_Ethnicity_CodeSet.pdf', 'Version 1.0', 44819109)\n",
      "('Read', 'NHS UK Read Codes Version 2 (HSCIC)', 'http://www.nlm.nih.gov/research/umls/licensedcontent/umlsknowledgesources.html', 'NHS READV2 19.0.2 20150326000001', 44819113)\n",
      "('Relationship', 'OMOP Relationship', 'OMOP generated', '', 44819235)\n",
      "('Revenue Code', 'UB04/CMS1450 Revenue Codes (CMS)', 'http://www.mpca.net/?page=ERC_finance', '2010 Release', 44819133)\n",
      "('RxNorm', 'RxNorm (NLM)', 'http://www.nlm.nih.gov/research/umls/rxnorm/docs/rxnormfiles.html', 'RxNorm Full 20150706', 44819104)\n",
      "('SMQ', 'Standardised MedDRA Queries (MSSO)', 'http://www.meddramsso.com/secure/smq/SMQ_Spreadsheet_14_0_English_update.xlsx', 'Version 14.0', 44819121)\n",
      "('SNOMED', 'Systematic Nomenclature of Medicine - Clinical Terms (IHDSTO)', 'http://www.nlm.nih.gov/research/umls/licensedcontent/umlsknowledgesources.html', 'SnomedCT Release INT 20150131', 44819097)\n",
      "('Specialty', 'Medicare provider/supplier specialty codes (CMS)', 'http://www.cms.gov/Medicare/Provider-Enrollment-and-Certification/MedicareProviderSupEnroll/Taxonomy.html', '', 44819138)\n",
      "('SPL', 'Structured Product Labeling (FDA)', 'http://www.fda.gov/Drugs/InformationOnDrugs/ucm142438.htm', 'NDC 20150708', 44819140)\n",
      "('UCUM', 'Unified Code for Units of Measure (Regenstrief Institute)', 'http://aurora.regenstrief.org/~ucum/ucum.html#section-Alphabetic-Index', 'Version 1.8.2', 44819107)\n",
      "('VA Class', 'VA National Drug File Class (VA)', 'http://www.nlm.nih.gov/research/umls/rxnorm/docs/rxnormfiles.html', 'RxNorm Full 20150706', 44819122)\n",
      "('VA Product', 'VA National Drug File Product (VA)', 'http://www.nlm.nih.gov/research/umls/rxnorm/docs/rxnormfiles.html', 'RxNorm Full 20150706', 44819120)\n",
      "('Visit', 'OMOP Visit', 'OMOP generated', '', 44819119)\n",
      "('Visit Type', 'OMOP Visit Type', 'OMOP generated', '', 44819150)\n",
      "('Vocabulary', 'OMOP Vocabulary', 'OMOP generated', '', 44819232)\n",
      "('ABMS', 'Provider Specialty (American Board of Medical Specialties)', 'http://www.abms.org/member-boards/specialty-subspecialty-certificates', '', 45756746)\n",
      "('APC', 'Ambulatory Payment Classification (CMS)', 'http://www.cms.gov/Medicare/Medicare-Fee-for-Service-Payment/HospitalOutpatientPPS/Hospital-Outpatient-Regulations-and-Notices.html', '2011-28-09', 44819132)\n",
      "('ATC', 'WHO Anatomic Therapeutic Chemical Classification', 'FDB UK distribution package', 'RxNorm Full 20150706', 44819117)\n",
      "('CCS', 'Clinical Classifications Software for ICD-9-CM (HCUP)', 'http://www.hcup-us.ahrq.gov/toolssoftware/ccs/ccs.jsp#download', 'Not implemented yet', 44819142)\n",
      "('CIEL', 'Columbia International eHealth Laboratory (Columbia University)', 'https://wiki.openmrs.org/display/docs/Getting+and+Using+the+MVP-CIEL+Concept+Dictionary', 'Openmrs 1.11.0 20150227', 45905710)\n",
      "('Cohort', 'Legacy OMOP HOI or DOI cohort', 'OMOP generated', '', 44819123)\n",
      "('Cohort Type', 'OMOP Cohort Type', 'OMOP generated', '', 44819234)\n",
      "('Concept Class', 'OMOP Concept Class', 'OMOP generated', '', 44819233)\n",
      "('Condition Type', 'OMOP Condition Occurrence Type', 'OMOP generated', '', 44819127)\n",
      "('CPT4', 'Current Procedural Terminology version 4 (AMA)', 'http://www.nlm.nih.gov/research/umls/licensedcontent/umlsknowledgesources.html', '2014AB', 44819100)\n",
      "('Currency', 'International Currency Symbol (ISO 4217)', 'http://www.iso.org/iso/home/standards/currency_codes.htm', '2008', 44819153)\n",
      "('Death Type', 'OMOP Death Type', 'OMOP generated', '', 44819135)\n",
      "('Device Type', 'OMOP Device Type', 'OMOP generated', '', 44819151)\n",
      "('Domain', 'OMOP Domain', 'OMOP generated', '', 44819147)\n",
      "('DRG', 'Diagnosis-related group (CMS)', 'http://www.cms.gov/Medicare/Medicare-Fee-for-Service-Payment/AcuteInpatientPPS/Acute-Inpatient-Files-for-Download.html', '2011-18-02', 44819130)\n",
      "('Drug Type', 'OMOP Drug Exposure Type', 'OMOP generated', '', 44819126)\n",
      "('ETC', 'Enhanced Therapeutic Classification (FDB)', 'FDB US distribution package', '2013-20-06', 44819116)\n",
      "('Ethnicity', 'OMOP Ethnicity', 'OMOP generated', '', 44819134)\n",
      "('Gemscript', 'Gemscript NHS dictionary of medicine and devices (NHS)', 'Codes extracted from GPRD database, courtesy of J&J', '2013 Release', 44819144)\n",
      "('Gender', 'OMOP Gender', 'OMOP generated', '', 44819108)\n",
      "('Genseqno', 'Generic sequence number (FDB)', 'FDB US distribution package', '2011-25-08', 44819141)\n",
      "('GPI', 'Medi-Span Generic Product Identifier (Wolters Kluwer Health)', 'Medi-Span distribution package', 'RXNORM CROSS REFERENCE 15.2.1.002', 44819106)\n",
      "('HCPCS', 'Healthcare Common Procedure Coding System (CMS)', 'http://www.nlm.nih.gov/research/umls/licensedcontent/umlsknowledgesources.html', '2015 Annual Alpha Numeric HCPCS File', 44819101)\n",
      "('HES Specialty', 'Hospital Episode Statistics Specialty (NHS)', 'http://www.datadictionary.nhs.uk/data_dictionary/attributes/m/main_specialty_code_de.asp?shownav=0', 'Not implemented yet', 44819145)\n",
      "('ICD10', 'International Classification of Diseases, 10th Revision, (WHO)', 'http://www.who.int/classifications/icd/icdonlineversions/en/', '2014 Release', 44819124)\n",
      "('ICD10CM', 'International Classification of Diseases, 10th Revision, Clinical Modification (NCHS)', 'http://www.cdc.gov/nchs/icd/icd10cm.htm', 'Not implemented yet', 44819124)\n",
      "('ICD10PCS', 'ICD-10 Procedure Coding System (CMS)', 'http://www.cms.gov/Medicare/Coding/ICD10/index.html', '2011-08-06', 44819125)\n",
      "('ICD9CM', 'International Classification of Diseases, Ninth Revision, Clinical Modification, Volume 1 and 2 (NCHS)', 'http://www.cms.gov/Medicare/Coding/ICD9ProviderDiagnosticCodes/codes.html', 'ICD9CM v32 master descriptions', 44819098)\n",
      "('ICD9Proc', 'International Classification of Diseases, Ninth Revision, Clinical Modification, Volume 3 (NCHS)', 'http://www.cms.gov/Medicare/Coding/ICD9ProviderDiagnosticCodes/codes.html', 'ICD9CM v32 master descriptions', 44819099)\n",
      "('Indication', 'Indications and Contraindications (FDB)', 'FDB US distribution package', '2013-20-06', 44819115)\n",
      "('LOINC', 'Logical Observation Identifiers Names and Codes (Regenstrief Institute)', 'http://loinc.org/downloads/loinc', 'LOINC 2.52', 44819102)\n",
      "('MDC', 'Major Diagnostic Categories (CMS)', 'http://www.cms.gov/Medicare/Medicare-Fee-for-Service-Payment/AcuteInpatientPPS/Acute-Inpatient-Files-for-Download.html', '2013-01-06', 44819131)\n",
      "('Meas Type', 'OMOP Measurement Type', 'OMOP generated', '', 44819152)\n",
      "('MedDRA', 'Medical Dictionary for Regulatory Activities (MSSO)', 'http://www.meddramsso.com/subscriber_download.asp', 'MedDRA version 18.0', 44819111)\n",
      "('MeSH', 'Medical Subject Headings (NLM)', 'http://www.nlm.nih.gov/research/umls/licensedcontent/umlsknowledgesources.html', '2015 Release', 44819136)\n",
      "('Multilex', 'Multilex (FDB)', 'http://www.nlm.nih.gov/research/umls/rxnorm/docs/rxnormfiles.html', '2013-05-06', 44819118)\n",
      "('Multum', 'Cerner Multum (Cerner)', 'http://www.nlm.nih.gov/research/umls/rxnorm/docs/rxnormfiles.html', '2013-07-10', 44819112)\n",
      "('NDC', 'National Drug Code (FDA and manufacturers)', 'http://www.nlm.nih.gov/research/umls/rxnorm/docs/rxnormfiles.html, http://www.fda.gov/downloads/Drugs/DevelopmentApprovalProcess/UCM070838.zip', 'NDC 20150708', 44819105)\n",
      "('NDFRT', 'National Drug File - Reference Terminology (VA)', 'http://www.nlm.nih.gov/research/umls/rxnorm/docs/rxnormfiles.html', 'RxNorm Full 20150706', 44819103)\n",
      "('None', 'OMOP Standardized Vocabularies', 'OMOP generated', 'v5.0 17-JUL-15', 44819096)\n",
      "('Note Type', 'OMOP Note Type', 'OMOP generated', '', 44819146)\n",
      "('NUCC', 'National Uniform Claim Committee Health Care Provider Taxonomy Code Set (NUCC)', 'http://www.nucc.org/index.php?option=com_content&view=article&id=107&Itemid=132', '2013-07-01', 44819137)\n",
      "('Obs Period Type', 'OMOP Observation Period Type', 'OMOP generated', '', 44819149)\n",
      "('Observation Type', 'OMOP Observation Type', 'OMOP generated', '', 44819129)\n",
      "('OPCS4', 'OPCS Classification of Interventions and Procedures version 4 (NHS)', 'http://systems.hscic.gov.uk/data/clinicalcoding/codingstandards/opcs4', 'OPCS4 nhs_dmwb_19.0.1_20150401000001', 44819143)\n",
      "('OXMIS', 'Oxford Medical Information System (OCHP)', 'Codes extracted from GPRD database, courtesy of GSK', '', 44819114)\n",
      "('PCORNet', 'National Patient-Centered Clinical Research Network (PCORI)', 'OMOP generated', '', 44819148)\n",
      "('Place of Service', 'Place of Service Codes for Professional Claims (CMS)', 'http://www.cms.gov/Medicare/Medicare-Fee-for-Service-Payment/PhysicianFeeSched/downloads//Website_POS_database.pdf', '2009-01-11', 44819110)\n",
      "('Procedure Type', 'OMOP Procedure Occurrence Type', 'OMOP generated', '', 44819128)\n",
      "('Race', 'Race and Ethnicity Code Set (USBC)', 'http://www.cdc.gov/nchs/data/dvs/Race_Ethnicity_CodeSet.pdf', 'Version 1.0', 44819109)\n",
      "('Read', 'NHS UK Read Codes Version 2 (HSCIC)', 'http://www.nlm.nih.gov/research/umls/licensedcontent/umlsknowledgesources.html', 'NHS READV2 19.0.2 20150326000001', 44819113)\n",
      "('Relationship', 'OMOP Relationship', 'OMOP generated', '', 44819235)\n",
      "('Revenue Code', 'UB04/CMS1450 Revenue Codes (CMS)', 'http://www.mpca.net/?page=ERC_finance', '2010 Release', 44819133)\n",
      "('RxNorm', 'RxNorm (NLM)', 'http://www.nlm.nih.gov/research/umls/rxnorm/docs/rxnormfiles.html', 'RxNorm Full 20150706', 44819104)\n",
      "('SMQ', 'Standardised MedDRA Queries (MSSO)', 'http://www.meddramsso.com/secure/smq/SMQ_Spreadsheet_14_0_English_update.xlsx', 'Version 14.0', 44819121)\n",
      "('SNOMED', 'Systematic Nomenclature of Medicine - Clinical Terms (IHDSTO)', 'http://www.nlm.nih.gov/research/umls/licensedcontent/umlsknowledgesources.html', 'SnomedCT Release INT 20150131', 44819097)\n",
      "('Specialty', 'Medicare provider/supplier specialty codes (CMS)', 'http://www.cms.gov/Medicare/Provider-Enrollment-and-Certification/MedicareProviderSupEnroll/Taxonomy.html', '', 44819138)\n",
      "('SPL', 'Structured Product Labeling (FDA)', 'http://www.fda.gov/Drugs/InformationOnDrugs/ucm142438.htm', 'NDC 20150708', 44819140)\n",
      "('UCUM', 'Unified Code for Units of Measure (Regenstrief Institute)', 'http://aurora.regenstrief.org/~ucum/ucum.html#section-Alphabetic-Index', 'Version 1.8.2', 44819107)\n",
      "('VA Class', 'VA National Drug File Class (VA)', 'http://www.nlm.nih.gov/research/umls/rxnorm/docs/rxnormfiles.html', 'RxNorm Full 20150706', 44819122)\n",
      "('VA Product', 'VA National Drug File Product (VA)', 'http://www.nlm.nih.gov/research/umls/rxnorm/docs/rxnormfiles.html', 'RxNorm Full 20150706', 44819120)\n",
      "('Visit', 'OMOP Visit', 'OMOP generated', '', 44819119)\n",
      "('Visit Type', 'OMOP Visit Type', 'OMOP generated', '', 44819150)\n",
      "('Vocabulary', 'OMOP Vocabulary', 'OMOP generated', '', 44819232)\n"
     ]
    }
   ],
   "source": [
    "cursor.execute('SELECT * FROM VOCABULARY')\n",
    "\n",
    "for records in cursor:\n",
    "    print(records)"
   ]
  },
  {
   "cell_type": "code",
   "execution_count": null,
   "metadata": {},
   "outputs": [],
   "source": [
    "cursor.execute('''LOAD DATA LOCAL INFILE 'C:/Users/acer/desktop/aeolus_v1/standard_case_drug.tsv' INTO TABLE standard_case_drug \n",
    "                FIELDS TERMINATED BY '\\t' LINES TERMINATED BY '\\n' IGNORE 0 LINES;''')"
   ]
  },
  {
   "cell_type": "code",
   "execution_count": null,
   "metadata": {},
   "outputs": [],
   "source": [
    "cursor.execute('''LOAD DATA LOCAL INFILE 'C:/Users/acer/desktop/aeolus_v1/standard_case_indication.tsv' INTO TABLE standard_case_indication \n",
    "                FIELDS TERMINATED BY '\\t' LINES TERMINATED BY '\\n' IGNORE 0 LINES;''')"
   ]
  },
  {
   "cell_type": "code",
   "execution_count": null,
   "metadata": {},
   "outputs": [],
   "source": [
    "cursor.execute('''LOAD DATA LOCAL INFILE 'C:/Users/acer/desktop/aeolus_v1/standard_case_outcome.tsv' INTO TABLE standard_case_outcome \n",
    "                FIELDS TERMINATED BY '\\t' LINES TERMINATED BY '\\n' IGNORE 0 LINES;''')\n"
   ]
  },
  {
   "cell_type": "code",
   "execution_count": null,
   "metadata": {},
   "outputs": [],
   "source": [
    "cursor.execute('''LOAD DATA LOCAL INFILE 'C:/Users/acer/desktop/aeolus_v1/standard_case_outcome_category.tsv' INTO TABLE standard_case_outcome_category \n",
    "                FIELDS TERMINATED BY '\\t' LINES TERMINATED BY '\\n' IGNORE 0 LINES;''')"
   ]
  },
  {
   "cell_type": "code",
   "execution_count": null,
   "metadata": {},
   "outputs": [],
   "source": [
    "cursor.execute('''LOAD DATA LOCAL INFILE 'C:/Users/acer/desktop/aeolus_v1/standard_drug_outcome_contingency_table.tsv' INTO TABLE standard_drug_outcome_contingency_table \n",
    "                FIELDS TERMINATED BY '\\t' LINES TERMINATED BY '\\n' IGNORE 0 LINES;''')"
   ]
  },
  {
   "cell_type": "code",
   "execution_count": null,
   "metadata": {},
   "outputs": [],
   "source": [
    "cursor.execute('''LOAD DATA LOCAL INFILE 'C:/Users/acer/desktop/aeolus_v1/standard_drug_outcome_count.tsv' INTO TABLE standard_drug_outcome_count \n",
    "                FIELDS TERMINATED BY '\\t' LINES TERMINATED BY '\\n' IGNORE 0 LINES;''')"
   ]
  },
  {
   "cell_type": "code",
   "execution_count": null,
   "metadata": {},
   "outputs": [],
   "source": [
    "cursor.execute('''LOAD DATA LOCAL INFILE'C:/Users/acer/desktop/aeolus_v1/standard_drug_outcome_drilldown.tsv' INTO TABLE standard_drug_outcome_drilldown \n",
    "                FIELDS TERMINATED BY '\\t' LINES TERMINATED BY '\\n' IGNORE 0 LINES;''')"
   ]
  },
  {
   "cell_type": "code",
   "execution_count": null,
   "metadata": {},
   "outputs": [],
   "source": [
    "cursor.execute('''LOAD DATA LOCAL INFILE 'C:/Users/acer/desktop/aeolus_v1/standard_drug_outcome_statistics.tsv' INTO TABLE standard_drug_outcome_statistics \n",
    "                    FIELDS TERMINATED BY '\\t' LINES TERMINATED BY '\\n' IGNORE 0 LINES;''')"
   ]
  },
  {
   "cell_type": "code",
   "execution_count": null,
   "metadata": {},
   "outputs": [],
   "source": [
    "cursor.execute('ALTER TABLE vocabulary ADD UNIQUE INDEX idx_vocabulary_vocabulary_id (vocabulary_id);')"
   ]
  },
  {
   "cell_type": "code",
   "execution_count": 25,
   "metadata": {},
   "outputs": [],
   "source": [
    "cursor.execute('ALTER TABLE standard_drug_outcome_contingency_table ADD INDEX idx_standard_drug_outcome_contingency_table_drug_concept_id (drug_concept_id), ADD INDEX idx_standard_drug_outcome_contingency_table_outcome_concept_id (outcome_concept_id);')"
   ]
  },
  {
   "cell_type": "code",
   "execution_count": 26,
   "metadata": {},
   "outputs": [],
   "source": [
    "cursor.execute('ALTER TABLE standard_case_drug ADD INDEX idx_standard_case_drug_primary_id (primaryid(255), drug_seq(255)), ADD INDEX idx_standard_case_drug_isr (isr(255), drug_seq(255)), ADD INDEX idx_standard_case_drug_standard_concept_id (standard_concept_id);')"
   ]
  },
  {
   "cell_type": "code",
   "execution_count": 27,
   "metadata": {},
   "outputs": [],
   "source": [
    "cursor.execute('ALTER TABLE standard_case_indication ADD INDEX idx_standard_case_indication_primary_id (primaryid(255), indi_drug_seq(255)), ADD INDEX idx_standard_case_indication_isr (isr(255), indi_drug_seq(255)), ADD INDEX idx_standard_case_indication_indication_concept_id (indication_concept_id), ADD INDEX idx_standard_case_indication_snomed_indication_concept_id (snomed_indication_concept_id);')"
   ]
  },
  {
   "cell_type": "code",
   "execution_count": 28,
   "metadata": {},
   "outputs": [],
   "source": [
    "cursor.execute('ALTER TABLE standard_case_outcome ADD INDEX idx_standard_case_outcome_primary_id (primaryid(255)), ADD INDEX idx_standard_case_outcome_isr (isr(255)), ADD INDEX idx_standard_case_outcome_outcome_concept_id (outcome_concept_id), ADD INDEX idx_standard_case_outcome_snomed_outcome_concept_id (snomed_outcome_concept_id);')"
   ]
  },
  {
   "cell_type": "code",
   "execution_count": 29,
   "metadata": {},
   "outputs": [],
   "source": [
    "cursor.execute('ALTER TABLE standard_case_outcome_category ADD INDEX idx_standard_case_outcome_category_primary_id (primaryid(255)), ADD INDEX idx_standard_case_outcome_category_isr (isr(255)), ADD INDEX idx_standard_case_outcome_category_snomed_concept_id (snomed_concept_id, outc_code(255));')"
   ]
  },
  {
   "cell_type": "code",
   "execution_count": 30,
   "metadata": {},
   "outputs": [],
   "source": [
    "cursor.execute('ALTER TABLE standard_drug_outcome_count ADD INDEX idx_standard_drug_outcome_count_drug_concept_id (drug_concept_id), ADD INDEX idx_standard_drug_outcome_count_outcome_concept_id (outcome_concept_id), ADD INDEX idx_standard_case_outcome_count_snomed_outcome_concept_id (snomed_outcome_concept_id);')"
   ]
  },
  {
   "cell_type": "code",
   "execution_count": 31,
   "metadata": {},
   "outputs": [],
   "source": [
    "cursor.execute('ALTER TABLE standard_drug_outcome_statistics ADD INDEX idx_standard_drug_outcome_statistics_drug_concept_id (drug_concept_id), ADD INDEX idx_standard_drug_outcome_statistics_outcome_concept_id (outcome_concept_id), ADD INDEX idx_standard_case_outcome_statistics_snomed_outcome_concept_id (snomed_outcome_concept_id);')"
   ]
  },
  {
   "cell_type": "code",
   "execution_count": 33,
   "metadata": {},
   "outputs": [],
   "source": [
    "cursor.execute('ALTER TABLE standard_unique_all_case ADD INDEX idx_standard_unique_all_case_caseid (caseid(255)), ADD INDEX idx_standard_unique_all_case_primary_id (primaryid(255)), ADD INDEX idx_standard_unique_all_case_isr (isr(255));')"
   ]
  },
  {
   "cell_type": "code",
   "execution_count": null,
   "metadata": {},
   "outputs": [],
   "source": [
    "cursor.execute('ALTER TABLE standard_drug_outcome_drilldown ADD INDEX idx_standard_drug_outcome_drilldown_drug_concept_id (drug_concept_id), ADD INDEX idx_standard_drug_outcome_drilldown_outcome_concept_id (outcome_concept_id), ADD INDEX idx_standard_drug_outcome_drilldown_snomed_outcome_concept_id (snomed_outcome_concept_id), ADD INDEX idx_standard_drug_outcome_drilldown_primary_id (primaryid(255)), ADD INDEX idx_standard_drug_outcome_drilldown_isr (isr(255));')"
   ]
  },
  {
   "cell_type": "code",
   "execution_count": null,
   "metadata": {},
   "outputs": [],
   "source": [
    "cursor.execute('ALTER TABLE concept ADD PRIMARY KEY (concept_id), ADD UNIQUE INDEX idx_concept_concept_id (concept_id), ADD INDEX idx_concept_code (concept_code), ADD INDEX idx_concept_vocabluary_id (vocabulary_id), ADD INDEX idx_concept_domain_id (domain_id), ADD INDEX idx_concept_class_id (concept_class_id);')"
   ]
  },
  {
   "cell_type": "code",
   "execution_count": null,
   "metadata": {},
   "outputs": [],
   "source": [
    "import pandas as pd \n",
    "tsv_file='.tsv'# tsv file path\n",
    "csv_table=pd.read_table(tsv_file,sep='\\t')\n",
    "csv_table.to_csv('.csv',index=False) # create csv file"
   ]
  },
  {
   "cell_type": "code",
   "execution_count": 5,
   "metadata": {},
   "outputs": [
    {
     "data": {
      "text/plain": [
       "(133326, 14)"
      ]
     },
     "execution_count": 5,
     "metadata": {},
     "output_type": "execute_result"
    }
   ],
   "source": [
    "import pandas as pd \n",
    "concept=pd.read_csv('C:/Users/acer/desktop/aeolus_v1/concept.tsv',delimiter='\\t',header=None,low_memory=False,na_values=['\\\\N'],names=['concept_id','concept_name','domain_id','vocabulary_id','concept_class_id','standard_concept','concept_code','valid_start_date','valid_end_date','invalid_reason']) \n",
    "vocabulary=pd.read_csv('C:/Users/acer/desktop/aeolus_v1/vocabulary.tsv',delimiter='\\t',header=None,na_values=['\\\\N'],names=['vocabulary_id' ,'vocabulary_name','vocabulary_reference','vocabulary_version' ,'vocabulary_concept_id'])"
   ]
  },
  {
   "cell_type": "code",
   "execution_count": 6,
   "metadata": {},
   "outputs": [
    {
     "data": {
      "text/html": [
       "<div>\n",
       "<style scoped>\n",
       "    .dataframe tbody tr th:only-of-type {\n",
       "        vertical-align: middle;\n",
       "    }\n",
       "\n",
       "    .dataframe tbody tr th {\n",
       "        vertical-align: top;\n",
       "    }\n",
       "\n",
       "    .dataframe thead th {\n",
       "        text-align: right;\n",
       "    }\n",
       "</style>\n",
       "<table border=\"1\" class=\"dataframe\">\n",
       "  <thead>\n",
       "    <tr style=\"text-align: right;\">\n",
       "      <th></th>\n",
       "      <th>concept_id</th>\n",
       "      <th>concept_name</th>\n",
       "      <th>domain_id</th>\n",
       "      <th>vocabulary_id</th>\n",
       "      <th>concept_class_id</th>\n",
       "      <th>standard_concept</th>\n",
       "      <th>concept_code</th>\n",
       "      <th>valid_start_date</th>\n",
       "      <th>valid_end_date</th>\n",
       "      <th>invalid_reason</th>\n",
       "      <th>vocabulary_name</th>\n",
       "      <th>vocabulary_reference</th>\n",
       "      <th>vocabulary_version</th>\n",
       "      <th>vocabulary_concept_id</th>\n",
       "    </tr>\n",
       "  </thead>\n",
       "  <tbody>\n",
       "    <tr>\n",
       "      <th>0</th>\n",
       "      <td>45732785,\"Estradio</td>\n",
       "      <td>Drug</td>\n",
       "      <td>Gemscript</td>\n",
       "      <td>Gemscript</td>\n",
       "      <td>NaN</td>\n",
       "      <td>61000020</td>\n",
       "      <td>2013-12-12</td>\n",
       "      <td>2099-12-31</td>\n",
       "      <td>NaN</td>\n",
       "      <td>NaN</td>\n",
       "      <td>Gemscript NHS dictionary of medicine and devic...</td>\n",
       "      <td>Codes extracted from GPRD database, courtesy o...</td>\n",
       "      <td>2013 Release</td>\n",
       "      <td>44819144</td>\n",
       "    </tr>\n",
       "    <tr>\n",
       "      <th>1</th>\n",
       "      <td>45732786</td>\n",
       "      <td>Estradiol 1mg tablets</td>\n",
       "      <td>Drug</td>\n",
       "      <td>Gemscript</td>\n",
       "      <td>Gemscript</td>\n",
       "      <td>NaN</td>\n",
       "      <td>61004020</td>\n",
       "      <td>2013-12-12</td>\n",
       "      <td>2099-12-31</td>\n",
       "      <td>NaN</td>\n",
       "      <td>Gemscript NHS dictionary of medicine and devic...</td>\n",
       "      <td>Codes extracted from GPRD database, courtesy o...</td>\n",
       "      <td>2013 Release</td>\n",
       "      <td>44819144</td>\n",
       "    </tr>\n",
       "    <tr>\n",
       "      <th>2</th>\n",
       "      <td>45732787</td>\n",
       "      <td>Estriol 250micrograms tablets</td>\n",
       "      <td>Drug</td>\n",
       "      <td>Gemscript</td>\n",
       "      <td>Gemscript</td>\n",
       "      <td>NaN</td>\n",
       "      <td>61015020</td>\n",
       "      <td>2013-12-12</td>\n",
       "      <td>2099-12-31</td>\n",
       "      <td>NaN</td>\n",
       "      <td>Gemscript NHS dictionary of medicine and devic...</td>\n",
       "      <td>Codes extracted from GPRD database, courtesy o...</td>\n",
       "      <td>2013 Release</td>\n",
       "      <td>44819144</td>\n",
       "    </tr>\n",
       "    <tr>\n",
       "      <th>3</th>\n",
       "      <td>45732788</td>\n",
       "      <td>Sodium cromoglicate 5mg/dose inhaler with spacer</td>\n",
       "      <td>Drug</td>\n",
       "      <td>Gemscript</td>\n",
       "      <td>Gemscript</td>\n",
       "      <td>NaN</td>\n",
       "      <td>61057020</td>\n",
       "      <td>2013-12-12</td>\n",
       "      <td>2099-12-31</td>\n",
       "      <td>NaN</td>\n",
       "      <td>Gemscript NHS dictionary of medicine and devic...</td>\n",
       "      <td>Codes extracted from GPRD database, courtesy o...</td>\n",
       "      <td>2013 Release</td>\n",
       "      <td>44819144</td>\n",
       "    </tr>\n",
       "    <tr>\n",
       "      <th>4</th>\n",
       "      <td>45732789</td>\n",
       "      <td>Sodium cromoglicate inhalation capsules</td>\n",
       "      <td>Drug</td>\n",
       "      <td>Gemscript</td>\n",
       "      <td>Gemscript</td>\n",
       "      <td>NaN</td>\n",
       "      <td>61071020</td>\n",
       "      <td>2013-12-12</td>\n",
       "      <td>2099-12-31</td>\n",
       "      <td>NaN</td>\n",
       "      <td>Gemscript NHS dictionary of medicine and devic...</td>\n",
       "      <td>Codes extracted from GPRD database, courtesy o...</td>\n",
       "      <td>2013 Release</td>\n",
       "      <td>44819144</td>\n",
       "    </tr>\n",
       "  </tbody>\n",
       "</table>\n",
       "</div>"
      ],
      "text/plain": [
       "           concept_id                                      concept_name  \\\n",
       "0  45732785,\"Estradio                                              Drug   \n",
       "1            45732786                             Estradiol 1mg tablets   \n",
       "2            45732787                     Estriol 250micrograms tablets   \n",
       "3            45732788  Sodium cromoglicate 5mg/dose inhaler with spacer   \n",
       "4            45732789           Sodium cromoglicate inhalation capsules   \n",
       "\n",
       "   domain_id vocabulary_id concept_class_id standard_concept concept_code  \\\n",
       "0  Gemscript     Gemscript              NaN         61000020   2013-12-12   \n",
       "1       Drug     Gemscript        Gemscript              NaN     61004020   \n",
       "2       Drug     Gemscript        Gemscript              NaN     61015020   \n",
       "3       Drug     Gemscript        Gemscript              NaN     61057020   \n",
       "4       Drug     Gemscript        Gemscript              NaN     61071020   \n",
       "\n",
       "  valid_start_date valid_end_date invalid_reason  \\\n",
       "0       2099-12-31            NaN            NaN   \n",
       "1       2013-12-12     2099-12-31            NaN   \n",
       "2       2013-12-12     2099-12-31            NaN   \n",
       "3       2013-12-12     2099-12-31            NaN   \n",
       "4       2013-12-12     2099-12-31            NaN   \n",
       "\n",
       "                                     vocabulary_name  \\\n",
       "0  Gemscript NHS dictionary of medicine and devic...   \n",
       "1  Gemscript NHS dictionary of medicine and devic...   \n",
       "2  Gemscript NHS dictionary of medicine and devic...   \n",
       "3  Gemscript NHS dictionary of medicine and devic...   \n",
       "4  Gemscript NHS dictionary of medicine and devic...   \n",
       "\n",
       "                                vocabulary_reference vocabulary_version  \\\n",
       "0  Codes extracted from GPRD database, courtesy o...       2013 Release   \n",
       "1  Codes extracted from GPRD database, courtesy o...       2013 Release   \n",
       "2  Codes extracted from GPRD database, courtesy o...       2013 Release   \n",
       "3  Codes extracted from GPRD database, courtesy o...       2013 Release   \n",
       "4  Codes extracted from GPRD database, courtesy o...       2013 Release   \n",
       "\n",
       "   vocabulary_concept_id  \n",
       "0               44819144  \n",
       "1               44819144  \n",
       "2               44819144  \n",
       "3               44819144  \n",
       "4               44819144  "
      ]
     },
     "execution_count": 6,
     "metadata": {},
     "output_type": "execute_result"
    }
   ],
   "source": [
    "con_voc_df.head()"
   ]
  },
  {
   "cell_type": "code",
   "execution_count": 7,
   "metadata": {},
   "outputs": [
    {
     "name": "stdout",
     "output_type": "stream",
     "text": [
      "The dataset contains 2494477 observations and 10 variables.\n",
      "Null values  concept_id           0.00\n",
      "concept_name        94.65\n",
      "domain_id           94.65\n",
      "vocabulary_id       94.65\n",
      "concept_class_id    94.66\n",
      "standard_concept    98.15\n",
      "concept_code        94.65\n",
      "valid_start_date    94.65\n",
      "valid_end_date      94.66\n",
      "invalid_reason      99.99\n",
      "dtype: float64\n"
     ]
    }
   ],
   "source": [
    "print(\"The dataset contains\",concept.shape[0], \"observations and\", concept.shape[1], \"variables.\")\n",
    "print(\"Null values \", round((concept.isna().sum()/concept.shape[0])*100,2))"
   ]
  },
  {
   "cell_type": "code",
   "execution_count": 8,
   "metadata": {},
   "outputs": [
    {
     "name": "stdout",
     "output_type": "stream",
     "text": [
      "Null values  concept_id          0\n",
      "concept_name        0\n",
      "domain_id           0\n",
      "vocabulary_id       0\n",
      "concept_class_id    0\n",
      "concept_code        0\n",
      "valid_start_date    0\n",
      "valid_end_date      0\n",
      "dtype: int64\n"
     ]
    },
    {
     "data": {
      "text/html": [
       "<div>\n",
       "<style scoped>\n",
       "    .dataframe tbody tr th:only-of-type {\n",
       "        vertical-align: middle;\n",
       "    }\n",
       "\n",
       "    .dataframe tbody tr th {\n",
       "        vertical-align: top;\n",
       "    }\n",
       "\n",
       "    .dataframe thead th {\n",
       "        text-align: right;\n",
       "    }\n",
       "</style>\n",
       "<table border=\"1\" class=\"dataframe\">\n",
       "  <thead>\n",
       "    <tr style=\"text-align: right;\">\n",
       "      <th></th>\n",
       "      <th>concept_id</th>\n",
       "      <th>concept_name</th>\n",
       "      <th>domain_id</th>\n",
       "      <th>vocabulary_id</th>\n",
       "      <th>concept_class_id</th>\n",
       "      <th>concept_code</th>\n",
       "      <th>valid_start_date</th>\n",
       "      <th>valid_end_date</th>\n",
       "    </tr>\n",
       "  </thead>\n",
       "  <tbody>\n",
       "    <tr>\n",
       "      <th>1980360</th>\n",
       "      <td>45732786</td>\n",
       "      <td>Estradiol 1mg tablets</td>\n",
       "      <td>Drug</td>\n",
       "      <td>Gemscript</td>\n",
       "      <td>Gemscript</td>\n",
       "      <td>61004020</td>\n",
       "      <td>2013-12-12</td>\n",
       "      <td>2099-12-31</td>\n",
       "    </tr>\n",
       "    <tr>\n",
       "      <th>1980361</th>\n",
       "      <td>45732787</td>\n",
       "      <td>Estriol 250micrograms tablets</td>\n",
       "      <td>Drug</td>\n",
       "      <td>Gemscript</td>\n",
       "      <td>Gemscript</td>\n",
       "      <td>61015020</td>\n",
       "      <td>2013-12-12</td>\n",
       "      <td>2099-12-31</td>\n",
       "    </tr>\n",
       "    <tr>\n",
       "      <th>1980362</th>\n",
       "      <td>45732788</td>\n",
       "      <td>Sodium cromoglicate 5mg/dose inhaler with spacer</td>\n",
       "      <td>Drug</td>\n",
       "      <td>Gemscript</td>\n",
       "      <td>Gemscript</td>\n",
       "      <td>61057020</td>\n",
       "      <td>2013-12-12</td>\n",
       "      <td>2099-12-31</td>\n",
       "    </tr>\n",
       "    <tr>\n",
       "      <th>1980363</th>\n",
       "      <td>45732789</td>\n",
       "      <td>Sodium cromoglicate inhalation capsules</td>\n",
       "      <td>Drug</td>\n",
       "      <td>Gemscript</td>\n",
       "      <td>Gemscript</td>\n",
       "      <td>61071020</td>\n",
       "      <td>2013-12-12</td>\n",
       "      <td>2099-12-31</td>\n",
       "    </tr>\n",
       "    <tr>\n",
       "      <th>1980364</th>\n",
       "      <td>45732790</td>\n",
       "      <td>Chlorhexidine gluconate 0.05% with cetrimide 0...</td>\n",
       "      <td>Drug</td>\n",
       "      <td>Gemscript</td>\n",
       "      <td>Gemscript</td>\n",
       "      <td>61099020</td>\n",
       "      <td>2013-12-12</td>\n",
       "      <td>2099-12-31</td>\n",
       "    </tr>\n",
       "  </tbody>\n",
       "</table>\n",
       "</div>"
      ],
      "text/plain": [
       "        concept_id                                       concept_name  \\\n",
       "1980360   45732786                              Estradiol 1mg tablets   \n",
       "1980361   45732787                      Estriol 250micrograms tablets   \n",
       "1980362   45732788   Sodium cromoglicate 5mg/dose inhaler with spacer   \n",
       "1980363   45732789            Sodium cromoglicate inhalation capsules   \n",
       "1980364   45732790  Chlorhexidine gluconate 0.05% with cetrimide 0...   \n",
       "\n",
       "        domain_id vocabulary_id concept_class_id concept_code  \\\n",
       "1980360      Drug     Gemscript        Gemscript     61004020   \n",
       "1980361      Drug     Gemscript        Gemscript     61015020   \n",
       "1980362      Drug     Gemscript        Gemscript     61057020   \n",
       "1980363      Drug     Gemscript        Gemscript     61071020   \n",
       "1980364      Drug     Gemscript        Gemscript     61099020   \n",
       "\n",
       "        valid_start_date valid_end_date  \n",
       "1980360       2013-12-12     2099-12-31  \n",
       "1980361       2013-12-12     2099-12-31  \n",
       "1980362       2013-12-12     2099-12-31  \n",
       "1980363       2013-12-12     2099-12-31  \n",
       "1980364       2013-12-12     2099-12-31  "
      ]
     },
     "execution_count": 8,
     "metadata": {},
     "output_type": "execute_result"
    }
   ],
   "source": [
    "concept.drop(['standard_concept','invalid_reason'],inplace=True, axis=1)\n",
    "concept=concept.dropna()  \n",
    "print(\"Null values \", concept.isna().sum())\n",
    "concept.head()"
   ]
  },
  {
   "cell_type": "code",
   "execution_count": 9,
   "metadata": {},
   "outputs": [
    {
     "name": "stdout",
     "output_type": "stream",
     "text": [
      "The dataset contains 64 observations and 5 variables.\n",
      "Null values  vocabulary_id             0.0\n",
      "vocabulary_name           0.0\n",
      "vocabulary_reference      0.0\n",
      "vocabulary_version       36.0\n",
      "vocabulary_concept_id     0.0\n",
      "dtype: float64 2\n"
     ]
    }
   ],
   "source": [
    "print(\"The dataset contains\",vocabulary.shape[0], \"observations and\", vocabulary.shape[1], \"variables.\")\n",
    "print(\"Null values \",  round((vocabulary.isna().sum()/vocabulary.shape[0]) *100),2)\n"
   ]
  },
  {
   "cell_type": "code",
   "execution_count": 10,
   "metadata": {},
   "outputs": [
    {
     "name": "stdout",
     "output_type": "stream",
     "text": [
      "Null values  vocabulary_id            0\n",
      "vocabulary_name          0\n",
      "vocabulary_reference     0\n",
      "vocabulary_concept_id    0\n",
      "dtype: int64\n"
     ]
    }
   ],
   "source": [
    "vocabulary.drop(['vocabulary_version'],inplace=True, axis=1)\n",
    "vocabulary=vocabulary.dropna()  \n",
    "print(\"Null values \", vocabulary.isna().sum())\n"
   ]
  },
  {
   "cell_type": "code",
   "execution_count": 11,
   "metadata": {},
   "outputs": [
    {
     "data": {
      "text/html": [
       "<div>\n",
       "<style scoped>\n",
       "    .dataframe tbody tr th:only-of-type {\n",
       "        vertical-align: middle;\n",
       "    }\n",
       "\n",
       "    .dataframe tbody tr th {\n",
       "        vertical-align: top;\n",
       "    }\n",
       "\n",
       "    .dataframe thead th {\n",
       "        text-align: right;\n",
       "    }\n",
       "</style>\n",
       "<table border=\"1\" class=\"dataframe\">\n",
       "  <thead>\n",
       "    <tr style=\"text-align: right;\">\n",
       "      <th></th>\n",
       "      <th>vocabulary_id</th>\n",
       "      <th>vocabulary_name</th>\n",
       "      <th>vocabulary_reference</th>\n",
       "      <th>vocabulary_concept_id</th>\n",
       "    </tr>\n",
       "  </thead>\n",
       "  <tbody>\n",
       "    <tr>\n",
       "      <th>0</th>\n",
       "      <td>ABMS</td>\n",
       "      <td>Provider Specialty (American Board of Medical ...</td>\n",
       "      <td>http://www.abms.org/member-boards/specialty-su...</td>\n",
       "      <td>45756746</td>\n",
       "    </tr>\n",
       "    <tr>\n",
       "      <th>1</th>\n",
       "      <td>APC</td>\n",
       "      <td>Ambulatory Payment Classification (CMS)</td>\n",
       "      <td>http://www.cms.gov/Medicare/Medicare-Fee-for-S...</td>\n",
       "      <td>44819132</td>\n",
       "    </tr>\n",
       "    <tr>\n",
       "      <th>2</th>\n",
       "      <td>ATC</td>\n",
       "      <td>WHO Anatomic Therapeutic Chemical Classification</td>\n",
       "      <td>FDB UK distribution package</td>\n",
       "      <td>44819117</td>\n",
       "    </tr>\n",
       "    <tr>\n",
       "      <th>3</th>\n",
       "      <td>CCS</td>\n",
       "      <td>Clinical Classifications Software for ICD-9-CM...</td>\n",
       "      <td>http://www.hcup-us.ahrq.gov/toolssoftware/ccs/...</td>\n",
       "      <td>44819142</td>\n",
       "    </tr>\n",
       "    <tr>\n",
       "      <th>4</th>\n",
       "      <td>CIEL</td>\n",
       "      <td>Columbia International eHealth Laboratory (Col...</td>\n",
       "      <td>https://wiki.openmrs.org/display/docs/Getting+...</td>\n",
       "      <td>45905710</td>\n",
       "    </tr>\n",
       "  </tbody>\n",
       "</table>\n",
       "</div>"
      ],
      "text/plain": [
       "  vocabulary_id                                    vocabulary_name  \\\n",
       "0          ABMS  Provider Specialty (American Board of Medical ...   \n",
       "1           APC            Ambulatory Payment Classification (CMS)   \n",
       "2           ATC   WHO Anatomic Therapeutic Chemical Classification   \n",
       "3           CCS  Clinical Classifications Software for ICD-9-CM...   \n",
       "4          CIEL  Columbia International eHealth Laboratory (Col...   \n",
       "\n",
       "                                vocabulary_reference  vocabulary_concept_id  \n",
       "0  http://www.abms.org/member-boards/specialty-su...               45756746  \n",
       "1  http://www.cms.gov/Medicare/Medicare-Fee-for-S...               44819132  \n",
       "2                        FDB UK distribution package               44819117  \n",
       "3  http://www.hcup-us.ahrq.gov/toolssoftware/ccs/...               44819142  \n",
       "4  https://wiki.openmrs.org/display/docs/Getting+...               45905710  "
      ]
     },
     "execution_count": 11,
     "metadata": {},
     "output_type": "execute_result"
    }
   ],
   "source": [
    "vocabulary.head()"
   ]
  },
  {
   "cell_type": "code",
   "execution_count": 12,
   "metadata": {},
   "outputs": [
    {
     "data": {
      "text/plain": [
       "(133325, 11)"
      ]
     },
     "execution_count": 12,
     "metadata": {},
     "output_type": "execute_result"
    }
   ],
   "source": [
    "con_voc_df = pd.merge(concept, vocabulary, on=('vocabulary_id'), how='inner')\n",
    "con_voc_df.shape"
   ]
  },
  {
   "cell_type": "code",
   "execution_count": 13,
   "metadata": {},
   "outputs": [
    {
     "data": {
      "text/plain": [
       "concept_id               0\n",
       "concept_name             0\n",
       "domain_id                0\n",
       "vocabulary_id            0\n",
       "concept_class_id         0\n",
       "concept_code             0\n",
       "valid_start_date         0\n",
       "valid_end_date           0\n",
       "vocabulary_name          0\n",
       "vocabulary_reference     0\n",
       "vocabulary_concept_id    0\n",
       "dtype: int64"
      ]
     },
     "execution_count": 13,
     "metadata": {},
     "output_type": "execute_result"
    }
   ],
   "source": [
    "con_voc_df.isna().sum()"
   ]
  },
  {
   "cell_type": "code",
   "execution_count": 14,
   "metadata": {},
   "outputs": [
    {
     "data": {
      "text/html": [
       "<div>\n",
       "<style scoped>\n",
       "    .dataframe tbody tr th:only-of-type {\n",
       "        vertical-align: middle;\n",
       "    }\n",
       "\n",
       "    .dataframe tbody tr th {\n",
       "        vertical-align: top;\n",
       "    }\n",
       "\n",
       "    .dataframe thead th {\n",
       "        text-align: right;\n",
       "    }\n",
       "</style>\n",
       "<table border=\"1\" class=\"dataframe\">\n",
       "  <thead>\n",
       "    <tr style=\"text-align: right;\">\n",
       "      <th></th>\n",
       "      <th>concept_id</th>\n",
       "      <th>concept_name</th>\n",
       "      <th>domain_id</th>\n",
       "      <th>vocabulary_id</th>\n",
       "      <th>concept_class_id</th>\n",
       "      <th>concept_code</th>\n",
       "      <th>valid_start_date</th>\n",
       "      <th>valid_end_date</th>\n",
       "      <th>vocabulary_name</th>\n",
       "      <th>vocabulary_reference</th>\n",
       "      <th>vocabulary_concept_id</th>\n",
       "    </tr>\n",
       "  </thead>\n",
       "  <tbody>\n",
       "    <tr>\n",
       "      <th>0</th>\n",
       "      <td>45732786</td>\n",
       "      <td>Estradiol 1mg tablets</td>\n",
       "      <td>Drug</td>\n",
       "      <td>Gemscript</td>\n",
       "      <td>Gemscript</td>\n",
       "      <td>61004020</td>\n",
       "      <td>2013-12-12</td>\n",
       "      <td>2099-12-31</td>\n",
       "      <td>Gemscript NHS dictionary of medicine and devic...</td>\n",
       "      <td>Codes extracted from GPRD database, courtesy o...</td>\n",
       "      <td>44819144</td>\n",
       "    </tr>\n",
       "    <tr>\n",
       "      <th>1</th>\n",
       "      <td>45732787</td>\n",
       "      <td>Estriol 250micrograms tablets</td>\n",
       "      <td>Drug</td>\n",
       "      <td>Gemscript</td>\n",
       "      <td>Gemscript</td>\n",
       "      <td>61015020</td>\n",
       "      <td>2013-12-12</td>\n",
       "      <td>2099-12-31</td>\n",
       "      <td>Gemscript NHS dictionary of medicine and devic...</td>\n",
       "      <td>Codes extracted from GPRD database, courtesy o...</td>\n",
       "      <td>44819144</td>\n",
       "    </tr>\n",
       "    <tr>\n",
       "      <th>2</th>\n",
       "      <td>45732788</td>\n",
       "      <td>Sodium cromoglicate 5mg/dose inhaler with spacer</td>\n",
       "      <td>Drug</td>\n",
       "      <td>Gemscript</td>\n",
       "      <td>Gemscript</td>\n",
       "      <td>61057020</td>\n",
       "      <td>2013-12-12</td>\n",
       "      <td>2099-12-31</td>\n",
       "      <td>Gemscript NHS dictionary of medicine and devic...</td>\n",
       "      <td>Codes extracted from GPRD database, courtesy o...</td>\n",
       "      <td>44819144</td>\n",
       "    </tr>\n",
       "    <tr>\n",
       "      <th>3</th>\n",
       "      <td>45732789</td>\n",
       "      <td>Sodium cromoglicate inhalation capsules</td>\n",
       "      <td>Drug</td>\n",
       "      <td>Gemscript</td>\n",
       "      <td>Gemscript</td>\n",
       "      <td>61071020</td>\n",
       "      <td>2013-12-12</td>\n",
       "      <td>2099-12-31</td>\n",
       "      <td>Gemscript NHS dictionary of medicine and devic...</td>\n",
       "      <td>Codes extracted from GPRD database, courtesy o...</td>\n",
       "      <td>44819144</td>\n",
       "    </tr>\n",
       "    <tr>\n",
       "      <th>4</th>\n",
       "      <td>45732790</td>\n",
       "      <td>Chlorhexidine gluconate 0.05% with cetrimide 0...</td>\n",
       "      <td>Drug</td>\n",
       "      <td>Gemscript</td>\n",
       "      <td>Gemscript</td>\n",
       "      <td>61099020</td>\n",
       "      <td>2013-12-12</td>\n",
       "      <td>2099-12-31</td>\n",
       "      <td>Gemscript NHS dictionary of medicine and devic...</td>\n",
       "      <td>Codes extracted from GPRD database, courtesy o...</td>\n",
       "      <td>44819144</td>\n",
       "    </tr>\n",
       "  </tbody>\n",
       "</table>\n",
       "</div>"
      ],
      "text/plain": [
       "  concept_id                                       concept_name domain_id  \\\n",
       "0   45732786                              Estradiol 1mg tablets      Drug   \n",
       "1   45732787                      Estriol 250micrograms tablets      Drug   \n",
       "2   45732788   Sodium cromoglicate 5mg/dose inhaler with spacer      Drug   \n",
       "3   45732789            Sodium cromoglicate inhalation capsules      Drug   \n",
       "4   45732790  Chlorhexidine gluconate 0.05% with cetrimide 0...      Drug   \n",
       "\n",
       "  vocabulary_id concept_class_id concept_code valid_start_date valid_end_date  \\\n",
       "0     Gemscript        Gemscript     61004020       2013-12-12     2099-12-31   \n",
       "1     Gemscript        Gemscript     61015020       2013-12-12     2099-12-31   \n",
       "2     Gemscript        Gemscript     61057020       2013-12-12     2099-12-31   \n",
       "3     Gemscript        Gemscript     61071020       2013-12-12     2099-12-31   \n",
       "4     Gemscript        Gemscript     61099020       2013-12-12     2099-12-31   \n",
       "\n",
       "                                     vocabulary_name  \\\n",
       "0  Gemscript NHS dictionary of medicine and devic...   \n",
       "1  Gemscript NHS dictionary of medicine and devic...   \n",
       "2  Gemscript NHS dictionary of medicine and devic...   \n",
       "3  Gemscript NHS dictionary of medicine and devic...   \n",
       "4  Gemscript NHS dictionary of medicine and devic...   \n",
       "\n",
       "                                vocabulary_reference  vocabulary_concept_id  \n",
       "0  Codes extracted from GPRD database, courtesy o...               44819144  \n",
       "1  Codes extracted from GPRD database, courtesy o...               44819144  \n",
       "2  Codes extracted from GPRD database, courtesy o...               44819144  \n",
       "3  Codes extracted from GPRD database, courtesy o...               44819144  \n",
       "4  Codes extracted from GPRD database, courtesy o...               44819144  "
      ]
     },
     "execution_count": 14,
     "metadata": {},
     "output_type": "execute_result"
    }
   ],
   "source": [
    "con_voc_df.head()"
   ]
  },
  {
   "cell_type": "code",
   "execution_count": 53,
   "metadata": {},
   "outputs": [],
   "source": [
    "import pandas as pd\n",
    "standard_case_drug=pd.read_csv('C:/Users/acer/desktop/aeolus_v1/standard_case_drug.tsv',delimiter='\\t',low_memory=False,na_values=['\\\\N'],header=None,names=['primaryid','isr','drug_seq','role_cod','standard_concept_id' ]) \n",
    "standard_case_indication=pd.read_csv('C:/Users/acer/desktop/aeolus_v1/standard_case_indication.tsv',delimiter='\\t',header=None,low_memory=False,na_values=['\\\\N'],names=['primaryid','isr','indi_drug_seq','indi_pt','indication_concept_id','snomed_indication_concept_id']) \n"
   ]
  },
  {
   "cell_type": "code",
   "execution_count": 54,
   "metadata": {},
   "outputs": [
    {
     "data": {
      "text/html": [
       "<div>\n",
       "<style scoped>\n",
       "    .dataframe tbody tr th:only-of-type {\n",
       "        vertical-align: middle;\n",
       "    }\n",
       "\n",
       "    .dataframe tbody tr th {\n",
       "        vertical-align: top;\n",
       "    }\n",
       "\n",
       "    .dataframe thead th {\n",
       "        text-align: right;\n",
       "    }\n",
       "</style>\n",
       "<table border=\"1\" class=\"dataframe\">\n",
       "  <thead>\n",
       "    <tr style=\"text-align: right;\">\n",
       "      <th></th>\n",
       "      <th>primaryid</th>\n",
       "      <th>isr</th>\n",
       "      <th>drug_seq</th>\n",
       "      <th>role_cod</th>\n",
       "      <th>standard_concept_id</th>\n",
       "    </tr>\n",
       "  </thead>\n",
       "  <tbody>\n",
       "    <tr>\n",
       "      <th>0</th>\n",
       "      <td>101551742.0</td>\n",
       "      <td>NaN</td>\n",
       "      <td>4</td>\n",
       "      <td>C</td>\n",
       "      <td>711584</td>\n",
       "    </tr>\n",
       "    <tr>\n",
       "      <th>1</th>\n",
       "      <td>NaN</td>\n",
       "      <td>4787243.0</td>\n",
       "      <td>1006505295</td>\n",
       "      <td>C</td>\n",
       "      <td>19011773</td>\n",
       "    </tr>\n",
       "    <tr>\n",
       "      <th>2</th>\n",
       "      <td>NaN</td>\n",
       "      <td>6751326.0</td>\n",
       "      <td>1013792507</td>\n",
       "      <td>SS</td>\n",
       "      <td>40163615</td>\n",
       "    </tr>\n",
       "    <tr>\n",
       "      <th>3</th>\n",
       "      <td>NaN</td>\n",
       "      <td>4995268.0</td>\n",
       "      <td>1007299260</td>\n",
       "      <td>C</td>\n",
       "      <td>1154029</td>\n",
       "    </tr>\n",
       "    <tr>\n",
       "      <th>4</th>\n",
       "      <td>92198372.0</td>\n",
       "      <td>NaN</td>\n",
       "      <td>1</td>\n",
       "      <td>PS</td>\n",
       "      <td>1110942</td>\n",
       "    </tr>\n",
       "  </tbody>\n",
       "</table>\n",
       "</div>"
      ],
      "text/plain": [
       "     primaryid        isr    drug_seq role_cod  standard_concept_id\n",
       "0  101551742.0        NaN           4        C               711584\n",
       "1          NaN  4787243.0  1006505295        C             19011773\n",
       "2          NaN  6751326.0  1013792507       SS             40163615\n",
       "3          NaN  4995268.0  1007299260        C              1154029\n",
       "4   92198372.0        NaN           1       PS              1110942"
      ]
     },
     "execution_count": 54,
     "metadata": {},
     "output_type": "execute_result"
    }
   ],
   "source": [
    "standard_case_drug.head()"
   ]
  },
  {
   "cell_type": "code",
   "execution_count": 55,
   "metadata": {},
   "outputs": [
    {
     "name": "stdout",
     "output_type": "stream",
     "text": [
      "The dataset contains 15365394 observations and 5 variables.\n",
      "Null values  primaryid              62.0\n",
      "isr                    38.0\n",
      "drug_seq                0.0\n",
      "role_cod                0.0\n",
      "standard_concept_id     0.0\n",
      "dtype: float64 2\n"
     ]
    }
   ],
   "source": [
    "print(\"The dataset contains\",standard_case_drug.shape[0], \"observations and\", standard_case_drug.shape[1], \"variables.\")\n",
    "print(\"Null values \", round((standard_case_drug.isna().sum()/standard_case_drug.shape[0]) *100),2)\n"
   ]
  },
  {
   "cell_type": "code",
   "execution_count": 56,
   "metadata": {},
   "outputs": [
    {
     "name": "stdout",
     "output_type": "stream",
     "text": [
      "After dropping Null values  drug_seq               0\n",
      "role_cod               0\n",
      "standard_concept_id    0\n",
      "pri_isr                0\n",
      "dtype: int64\n"
     ]
    },
    {
     "data": {
      "text/html": [
       "<div>\n",
       "<style scoped>\n",
       "    .dataframe tbody tr th:only-of-type {\n",
       "        vertical-align: middle;\n",
       "    }\n",
       "\n",
       "    .dataframe tbody tr th {\n",
       "        vertical-align: top;\n",
       "    }\n",
       "\n",
       "    .dataframe thead th {\n",
       "        text-align: right;\n",
       "    }\n",
       "</style>\n",
       "<table border=\"1\" class=\"dataframe\">\n",
       "  <thead>\n",
       "    <tr style=\"text-align: right;\">\n",
       "      <th></th>\n",
       "      <th>drug_seq</th>\n",
       "      <th>role_cod</th>\n",
       "      <th>standard_concept_id</th>\n",
       "      <th>pri_isr</th>\n",
       "    </tr>\n",
       "  </thead>\n",
       "  <tbody>\n",
       "    <tr>\n",
       "      <th>0</th>\n",
       "      <td>4</td>\n",
       "      <td>C</td>\n",
       "      <td>711584</td>\n",
       "      <td>101551742.0</td>\n",
       "    </tr>\n",
       "    <tr>\n",
       "      <th>1</th>\n",
       "      <td>1006505295</td>\n",
       "      <td>C</td>\n",
       "      <td>19011773</td>\n",
       "      <td>4787243.0</td>\n",
       "    </tr>\n",
       "    <tr>\n",
       "      <th>2</th>\n",
       "      <td>1013792507</td>\n",
       "      <td>SS</td>\n",
       "      <td>40163615</td>\n",
       "      <td>6751326.0</td>\n",
       "    </tr>\n",
       "    <tr>\n",
       "      <th>3</th>\n",
       "      <td>1007299260</td>\n",
       "      <td>C</td>\n",
       "      <td>1154029</td>\n",
       "      <td>4995268.0</td>\n",
       "    </tr>\n",
       "    <tr>\n",
       "      <th>4</th>\n",
       "      <td>1</td>\n",
       "      <td>PS</td>\n",
       "      <td>1110942</td>\n",
       "      <td>92198372.0</td>\n",
       "    </tr>\n",
       "  </tbody>\n",
       "</table>\n",
       "</div>"
      ],
      "text/plain": [
       "     drug_seq role_cod  standard_concept_id      pri_isr\n",
       "0           4        C               711584  101551742.0\n",
       "1  1006505295        C             19011773    4787243.0\n",
       "2  1013792507       SS             40163615    6751326.0\n",
       "3  1007299260        C              1154029    4995268.0\n",
       "4           1       PS              1110942   92198372.0"
      ]
     },
     "execution_count": 56,
     "metadata": {},
     "output_type": "execute_result"
    }
   ],
   "source": [
    "standard_case_drug['pri_isr']=standard_case_drug['primaryid']\n",
    "standard_case_drug['pri_isr'].fillna(value = standard_case_drug['isr'],  inplace = True) \n",
    "standard_case_drug.drop(['primaryid','isr'],inplace=True, axis=1)\n",
    "standard_case_drug=standard_case_drug.dropna() \n",
    " \n",
    "print(\"After dropping Null values \", standard_case_drug.isna().sum())\n",
    "standard_case_drug.head()"
   ]
  },
  {
   "cell_type": "code",
   "execution_count": 57,
   "metadata": {},
   "outputs": [
    {
     "data": {
      "text/html": [
       "<div>\n",
       "<style scoped>\n",
       "    .dataframe tbody tr th:only-of-type {\n",
       "        vertical-align: middle;\n",
       "    }\n",
       "\n",
       "    .dataframe tbody tr th {\n",
       "        vertical-align: top;\n",
       "    }\n",
       "\n",
       "    .dataframe thead th {\n",
       "        text-align: right;\n",
       "    }\n",
       "</style>\n",
       "<table border=\"1\" class=\"dataframe\">\n",
       "  <thead>\n",
       "    <tr style=\"text-align: right;\">\n",
       "      <th></th>\n",
       "      <th>primaryid</th>\n",
       "      <th>isr</th>\n",
       "      <th>indi_drug_seq</th>\n",
       "      <th>indi_pt</th>\n",
       "      <th>indication_concept_id</th>\n",
       "      <th>snomed_indication_concept_id</th>\n",
       "    </tr>\n",
       "  </thead>\n",
       "  <tbody>\n",
       "    <tr>\n",
       "      <th>0</th>\n",
       "      <td>100033011.0</td>\n",
       "      <td>NaN</td>\n",
       "      <td>1</td>\n",
       "      <td>Product used for unknown indication</td>\n",
       "      <td>42890454</td>\n",
       "      <td>NaN</td>\n",
       "    </tr>\n",
       "    <tr>\n",
       "      <th>1</th>\n",
       "      <td>100033061.0</td>\n",
       "      <td>NaN</td>\n",
       "      <td>1</td>\n",
       "      <td>Product used for unknown indication</td>\n",
       "      <td>42890454</td>\n",
       "      <td>NaN</td>\n",
       "    </tr>\n",
       "    <tr>\n",
       "      <th>2</th>\n",
       "      <td>100033001.0</td>\n",
       "      <td>NaN</td>\n",
       "      <td>1</td>\n",
       "      <td>Osteoporosis</td>\n",
       "      <td>36416551</td>\n",
       "      <td>80502.0</td>\n",
       "    </tr>\n",
       "    <tr>\n",
       "      <th>3</th>\n",
       "      <td>NaN</td>\n",
       "      <td>6049067.0</td>\n",
       "      <td>1011029603</td>\n",
       "      <td>INSOMNIA</td>\n",
       "      <td>36718555</td>\n",
       "      <td>436962.0</td>\n",
       "    </tr>\n",
       "    <tr>\n",
       "      <th>4</th>\n",
       "      <td>NaN</td>\n",
       "      <td>6320997.0</td>\n",
       "      <td>1012098708</td>\n",
       "      <td>ASTHMA</td>\n",
       "      <td>36009700</td>\n",
       "      <td>317009.0</td>\n",
       "    </tr>\n",
       "  </tbody>\n",
       "</table>\n",
       "</div>"
      ],
      "text/plain": [
       "     primaryid        isr  indi_drug_seq                              indi_pt  \\\n",
       "0  100033011.0        NaN              1  Product used for unknown indication   \n",
       "1  100033061.0        NaN              1  Product used for unknown indication   \n",
       "2  100033001.0        NaN              1                         Osteoporosis   \n",
       "3          NaN  6049067.0     1011029603                             INSOMNIA   \n",
       "4          NaN  6320997.0     1012098708                               ASTHMA   \n",
       "\n",
       "   indication_concept_id  snomed_indication_concept_id  \n",
       "0               42890454                           NaN  \n",
       "1               42890454                           NaN  \n",
       "2               36416551                       80502.0  \n",
       "3               36718555                      436962.0  \n",
       "4               36009700                      317009.0  "
      ]
     },
     "execution_count": 57,
     "metadata": {},
     "output_type": "execute_result"
    }
   ],
   "source": [
    "standard_case_indication.head()"
   ]
  },
  {
   "cell_type": "code",
   "execution_count": 58,
   "metadata": {},
   "outputs": [
    {
     "name": "stdout",
     "output_type": "stream",
     "text": [
      "The dataset contains 8637264 observations and 6 variables.\n",
      "Null values  primaryid                       56.0\n",
      "isr                             44.0\n",
      "indi_drug_seq                    0.0\n",
      "indi_pt                          0.0\n",
      "indication_concept_id            0.0\n",
      "snomed_indication_concept_id    36.0\n",
      "dtype: float64 2\n"
     ]
    }
   ],
   "source": [
    "print(\"The dataset contains\",standard_case_indication.shape[0], \"observations and\", standard_case_indication.shape[1], \"variables.\")\n",
    "print(\"Null values \", round((standard_case_indication.isna().sum()/standard_case_indication.shape[0]) *100),2)\n"
   ]
  },
  {
   "cell_type": "code",
   "execution_count": 59,
   "metadata": {},
   "outputs": [
    {
     "name": "stdout",
     "output_type": "stream",
     "text": [
      "After dropping Null values  indi_drug_seq                   0\n",
      "indi_pt                         0\n",
      "indication_concept_id           0\n",
      "snomed_indication_concept_id    0\n",
      "pri_isr                         0\n",
      "dtype: int64\n"
     ]
    },
    {
     "data": {
      "text/html": [
       "<div>\n",
       "<style scoped>\n",
       "    .dataframe tbody tr th:only-of-type {\n",
       "        vertical-align: middle;\n",
       "    }\n",
       "\n",
       "    .dataframe tbody tr th {\n",
       "        vertical-align: top;\n",
       "    }\n",
       "\n",
       "    .dataframe thead th {\n",
       "        text-align: right;\n",
       "    }\n",
       "</style>\n",
       "<table border=\"1\" class=\"dataframe\">\n",
       "  <thead>\n",
       "    <tr style=\"text-align: right;\">\n",
       "      <th></th>\n",
       "      <th>indi_drug_seq</th>\n",
       "      <th>indi_pt</th>\n",
       "      <th>indication_concept_id</th>\n",
       "      <th>snomed_indication_concept_id</th>\n",
       "      <th>pri_isr</th>\n",
       "    </tr>\n",
       "  </thead>\n",
       "  <tbody>\n",
       "    <tr>\n",
       "      <th>2</th>\n",
       "      <td>1</td>\n",
       "      <td>Osteoporosis</td>\n",
       "      <td>36416551</td>\n",
       "      <td>80502.0</td>\n",
       "      <td>100033001.0</td>\n",
       "    </tr>\n",
       "    <tr>\n",
       "      <th>3</th>\n",
       "      <td>1011029603</td>\n",
       "      <td>INSOMNIA</td>\n",
       "      <td>36718555</td>\n",
       "      <td>436962.0</td>\n",
       "      <td>6049067.0</td>\n",
       "    </tr>\n",
       "    <tr>\n",
       "      <th>4</th>\n",
       "      <td>1012098708</td>\n",
       "      <td>ASTHMA</td>\n",
       "      <td>36009700</td>\n",
       "      <td>317009.0</td>\n",
       "      <td>6320997.0</td>\n",
       "    </tr>\n",
       "    <tr>\n",
       "      <th>5</th>\n",
       "      <td>1</td>\n",
       "      <td>Pulmonary hypertension</td>\n",
       "      <td>37219868</td>\n",
       "      <td>4322024.0</td>\n",
       "      <td>100033112.0</td>\n",
       "    </tr>\n",
       "    <tr>\n",
       "      <th>6</th>\n",
       "      <td>2</td>\n",
       "      <td>Cardiac failure congestive</td>\n",
       "      <td>35205243</td>\n",
       "      <td>319835.0</td>\n",
       "      <td>100033112.0</td>\n",
       "    </tr>\n",
       "  </tbody>\n",
       "</table>\n",
       "</div>"
      ],
      "text/plain": [
       "   indi_drug_seq                     indi_pt  indication_concept_id  \\\n",
       "2              1                Osteoporosis               36416551   \n",
       "3     1011029603                    INSOMNIA               36718555   \n",
       "4     1012098708                      ASTHMA               36009700   \n",
       "5              1      Pulmonary hypertension               37219868   \n",
       "6              2  Cardiac failure congestive               35205243   \n",
       "\n",
       "   snomed_indication_concept_id      pri_isr  \n",
       "2                       80502.0  100033001.0  \n",
       "3                      436962.0    6049067.0  \n",
       "4                      317009.0    6320997.0  \n",
       "5                     4322024.0  100033112.0  \n",
       "6                      319835.0  100033112.0  "
      ]
     },
     "execution_count": 59,
     "metadata": {},
     "output_type": "execute_result"
    }
   ],
   "source": [
    "\n",
    "standard_case_indication['pri_isr']=standard_case_indication['primaryid']\n",
    "standard_case_indication['pri_isr'].fillna(value = standard_case_indication['isr'],  inplace = True) \n",
    "standard_case_indication.drop(['primaryid','isr'],inplace=True, axis=1)\n",
    "standard_case_indication=standard_case_indication.dropna() \n",
    " \n",
    "print(\"After dropping Null values \", standard_case_indication.isna().sum())\n",
    "standard_case_indication.head()"
   ]
  },
  {
   "cell_type": "code",
   "execution_count": 60,
   "metadata": {},
   "outputs": [
    {
     "name": "stdout",
     "output_type": "stream",
     "text": [
      "Null values  indi_drug_seq                   0\n",
      "indi_pt                         0\n",
      "indication_concept_id           0\n",
      "snomed_indication_concept_id    0\n",
      "pri_isr                         0\n",
      "dtype: int64\n"
     ]
    }
   ],
   "source": [
    "standard_case_indication=standard_case_indication.dropna()  \n",
    "print(\"Null values \", standard_case_indication.isna().sum())"
   ]
  },
  {
   "cell_type": "code",
   "execution_count": 61,
   "metadata": {},
   "outputs": [],
   "source": [
    "standard_case_df_1=pd.merge(standard_case_drug,standard_case_indication,how=\"inner\", on=['pri_isr'])"
   ]
  },
  {
   "cell_type": "code",
   "execution_count": 62,
   "metadata": {},
   "outputs": [],
   "source": [
    "standard_case_drug_1 = standard_case_drug.drop_duplicates(subset=['pri_isr'])\n",
    "standard_case_indication_1 = standard_case_indication.drop_duplicates(subset=['pri_isr'])\n"
   ]
  },
  {
   "cell_type": "code",
   "execution_count": 63,
   "metadata": {},
   "outputs": [],
   "source": [
    "standard_case_df_1=pd.merge(standard_case_drug_1,standard_case_indication_1,how=\"inner\", on=['pri_isr'])"
   ]
  },
  {
   "cell_type": "code",
   "execution_count": 64,
   "metadata": {},
   "outputs": [
    {
     "name": "stdout",
     "output_type": "stream",
     "text": [
      " # of rows in standard_case_drug --> 4855564\n",
      " # of rows in standard_case_indication --> 3097282\n",
      " # of rows in standard_case_df_1 --> 3062595\n"
     ]
    }
   ],
   "source": [
    "print(' # of rows in standard_case_drug -->',standard_case_drug_1.shape[0])\n",
    "print(' # of rows in standard_case_indication -->',standard_case_indication_1.shape[0])\n",
    "print(' # of rows in standard_case_df_1 -->',standard_case_df_1.shape[0])\n"
   ]
  },
  {
   "cell_type": "code",
   "execution_count": 65,
   "metadata": {},
   "outputs": [
    {
     "data": {
      "text/html": [
       "<div>\n",
       "<style scoped>\n",
       "    .dataframe tbody tr th:only-of-type {\n",
       "        vertical-align: middle;\n",
       "    }\n",
       "\n",
       "    .dataframe tbody tr th {\n",
       "        vertical-align: top;\n",
       "    }\n",
       "\n",
       "    .dataframe thead th {\n",
       "        text-align: right;\n",
       "    }\n",
       "</style>\n",
       "<table border=\"1\" class=\"dataframe\">\n",
       "  <thead>\n",
       "    <tr style=\"text-align: right;\">\n",
       "      <th></th>\n",
       "      <th>drug_seq</th>\n",
       "      <th>role_cod</th>\n",
       "      <th>standard_concept_id</th>\n",
       "      <th>pri_isr</th>\n",
       "      <th>indi_drug_seq</th>\n",
       "      <th>indi_pt</th>\n",
       "      <th>indication_concept_id</th>\n",
       "      <th>snomed_indication_concept_id</th>\n",
       "    </tr>\n",
       "  </thead>\n",
       "  <tbody>\n",
       "    <tr>\n",
       "      <th>0</th>\n",
       "      <td>4</td>\n",
       "      <td>C</td>\n",
       "      <td>711584</td>\n",
       "      <td>101551742.0</td>\n",
       "      <td>4</td>\n",
       "      <td>Convulsion</td>\n",
       "      <td>36718526</td>\n",
       "      <td>377091.0</td>\n",
       "    </tr>\n",
       "    <tr>\n",
       "      <th>1</th>\n",
       "      <td>1006505295</td>\n",
       "      <td>C</td>\n",
       "      <td>19011773</td>\n",
       "      <td>4787243.0</td>\n",
       "      <td>1006480200</td>\n",
       "      <td>HEPATITIS C</td>\n",
       "      <td>35909578</td>\n",
       "      <td>197494.0</td>\n",
       "    </tr>\n",
       "    <tr>\n",
       "      <th>2</th>\n",
       "      <td>1013792507</td>\n",
       "      <td>SS</td>\n",
       "      <td>40163615</td>\n",
       "      <td>6751326.0</td>\n",
       "      <td>1013792506</td>\n",
       "      <td>HEART RATE IRREGULAR</td>\n",
       "      <td>36311984</td>\n",
       "      <td>4262985.0</td>\n",
       "    </tr>\n",
       "    <tr>\n",
       "      <th>3</th>\n",
       "      <td>1007299260</td>\n",
       "      <td>C</td>\n",
       "      <td>1154029</td>\n",
       "      <td>4995268.0</td>\n",
       "      <td>1007257597</td>\n",
       "      <td>SCHIZOAFFECTIVE DISORDER</td>\n",
       "      <td>36919154</td>\n",
       "      <td>4286201.0</td>\n",
       "    </tr>\n",
       "    <tr>\n",
       "      <th>4</th>\n",
       "      <td>1</td>\n",
       "      <td>PS</td>\n",
       "      <td>1110942</td>\n",
       "      <td>92198372.0</td>\n",
       "      <td>1</td>\n",
       "      <td>Asthma</td>\n",
       "      <td>36009700</td>\n",
       "      <td>317009.0</td>\n",
       "    </tr>\n",
       "  </tbody>\n",
       "</table>\n",
       "</div>"
      ],
      "text/plain": [
       "     drug_seq role_cod  standard_concept_id      pri_isr  indi_drug_seq  \\\n",
       "0           4        C               711584  101551742.0              4   \n",
       "1  1006505295        C             19011773    4787243.0     1006480200   \n",
       "2  1013792507       SS             40163615    6751326.0     1013792506   \n",
       "3  1007299260        C              1154029    4995268.0     1007257597   \n",
       "4           1       PS              1110942   92198372.0              1   \n",
       "\n",
       "                    indi_pt  indication_concept_id  \\\n",
       "0                Convulsion               36718526   \n",
       "1               HEPATITIS C               35909578   \n",
       "2      HEART RATE IRREGULAR               36311984   \n",
       "3  SCHIZOAFFECTIVE DISORDER               36919154   \n",
       "4                    Asthma               36009700   \n",
       "\n",
       "   snomed_indication_concept_id  \n",
       "0                      377091.0  \n",
       "1                      197494.0  \n",
       "2                     4262985.0  \n",
       "3                     4286201.0  \n",
       "4                      317009.0  "
      ]
     },
     "execution_count": 65,
     "metadata": {},
     "output_type": "execute_result"
    }
   ],
   "source": [
    "standard_case_df_1.head()"
   ]
  },
  {
   "cell_type": "code",
   "execution_count": 67,
   "metadata": {},
   "outputs": [],
   "source": [
    "standard_case_outcome=pd.read_csv('C:/Users/acer/desktop/aeolus_v1/standard_case_outcome.tsv',delimiter='\\t',na_values=['\\\\N'],header=None,low_memory=False,names=['primaryid','isr','pt','outcome_concept_id','snomed_outcome_concept_id']) \n",
    "standard_case_outcome_category=pd.read_csv('C:/Users/acer/desktop/aeolus_v1/standard_case_outcome_category.tsv',delimiter='\\t',na_values=['\\\\N'],low_memory=False,header=None,names=['primaryid','isr','outc_code' ,'snomed_concept_id']) "
   ]
  },
  {
   "cell_type": "code",
   "execution_count": 68,
   "metadata": {},
   "outputs": [
    {
     "data": {
      "text/html": [
       "<div>\n",
       "<style scoped>\n",
       "    .dataframe tbody tr th:only-of-type {\n",
       "        vertical-align: middle;\n",
       "    }\n",
       "\n",
       "    .dataframe tbody tr th {\n",
       "        vertical-align: top;\n",
       "    }\n",
       "\n",
       "    .dataframe thead th {\n",
       "        text-align: right;\n",
       "    }\n",
       "</style>\n",
       "<table border=\"1\" class=\"dataframe\">\n",
       "  <thead>\n",
       "    <tr style=\"text-align: right;\">\n",
       "      <th></th>\n",
       "      <th>primaryid</th>\n",
       "      <th>isr</th>\n",
       "      <th>pt</th>\n",
       "      <th>outcome_concept_id</th>\n",
       "      <th>snomed_outcome_concept_id</th>\n",
       "    </tr>\n",
       "  </thead>\n",
       "  <tbody>\n",
       "    <tr>\n",
       "      <th>0</th>\n",
       "      <td>NaN</td>\n",
       "      <td>8310062.0</td>\n",
       "      <td>EYE IRRITATION</td>\n",
       "      <td>35607122</td>\n",
       "      <td>NaN</td>\n",
       "    </tr>\n",
       "    <tr>\n",
       "      <th>1</th>\n",
       "      <td>NaN</td>\n",
       "      <td>7794268.0</td>\n",
       "      <td>CONVULSION</td>\n",
       "      <td>36718526</td>\n",
       "      <td>377091.0</td>\n",
       "    </tr>\n",
       "    <tr>\n",
       "      <th>2</th>\n",
       "      <td>NaN</td>\n",
       "      <td>7794268.0</td>\n",
       "      <td>PYREXIA</td>\n",
       "      <td>35809054</td>\n",
       "      <td>437663.0</td>\n",
       "    </tr>\n",
       "    <tr>\n",
       "      <th>3</th>\n",
       "      <td>NaN</td>\n",
       "      <td>7794269.0</td>\n",
       "      <td>ANGINA PECTORIS</td>\n",
       "      <td>35205181</td>\n",
       "      <td>321318.0</td>\n",
       "    </tr>\n",
       "    <tr>\n",
       "      <th>4</th>\n",
       "      <td>NaN</td>\n",
       "      <td>7794269.0</td>\n",
       "      <td>CEREBROVASCULAR DISORDER</td>\n",
       "      <td>36718045</td>\n",
       "      <td>381591.0</td>\n",
       "    </tr>\n",
       "  </tbody>\n",
       "</table>\n",
       "</div>"
      ],
      "text/plain": [
       "   primaryid        isr                        pt  outcome_concept_id  \\\n",
       "0        NaN  8310062.0            EYE IRRITATION            35607122   \n",
       "1        NaN  7794268.0                CONVULSION            36718526   \n",
       "2        NaN  7794268.0                   PYREXIA            35809054   \n",
       "3        NaN  7794269.0           ANGINA PECTORIS            35205181   \n",
       "4        NaN  7794269.0  CEREBROVASCULAR DISORDER            36718045   \n",
       "\n",
       "   snomed_outcome_concept_id  \n",
       "0                        NaN  \n",
       "1                   377091.0  \n",
       "2                   437663.0  \n",
       "3                   321318.0  \n",
       "4                   381591.0  "
      ]
     },
     "execution_count": 68,
     "metadata": {},
     "output_type": "execute_result"
    }
   ],
   "source": [
    "standard_case_outcome.head()"
   ]
  },
  {
   "cell_type": "code",
   "execution_count": 69,
   "metadata": {},
   "outputs": [
    {
     "name": "stdout",
     "output_type": "stream",
     "text": [
      "The dataset contains 15745760 observations and 5 variables.\n",
      "Null values  primaryid                    63.0\n",
      "isr                          37.0\n",
      "pt                            0.0\n",
      "outcome_concept_id            0.0\n",
      "snomed_outcome_concept_id    20.0\n",
      "dtype: float64 2\n"
     ]
    }
   ],
   "source": [
    "print(\"The dataset contains\",standard_case_outcome.shape[0], \"observations and\", standard_case_outcome.shape[1], \"variables.\")\n",
    "print(\"Null values \", round((standard_case_outcome.isna().sum()/standard_case_outcome.shape[0]) *100),2)\n"
   ]
  },
  {
   "cell_type": "code",
   "execution_count": 70,
   "metadata": {},
   "outputs": [],
   "source": [
    "standard_case_outcome['pri_isr']=standard_case_outcome['primaryid']\n",
    "standard_case_outcome['pri_isr'].fillna(value = standard_case_outcome['isr'],  inplace = True) \n",
    "standard_case_outcome.drop(['primaryid','isr'],inplace=True, axis=1)\n"
   ]
  },
  {
   "cell_type": "code",
   "execution_count": 71,
   "metadata": {},
   "outputs": [
    {
     "name": "stdout",
     "output_type": "stream",
     "text": [
      "After dropping Null values  pt                           0\n",
      "outcome_concept_id           0\n",
      "snomed_outcome_concept_id    0\n",
      "pri_isr                      0\n",
      "dtype: int64\n"
     ]
    },
    {
     "data": {
      "text/html": [
       "<div>\n",
       "<style scoped>\n",
       "    .dataframe tbody tr th:only-of-type {\n",
       "        vertical-align: middle;\n",
       "    }\n",
       "\n",
       "    .dataframe tbody tr th {\n",
       "        vertical-align: top;\n",
       "    }\n",
       "\n",
       "    .dataframe thead th {\n",
       "        text-align: right;\n",
       "    }\n",
       "</style>\n",
       "<table border=\"1\" class=\"dataframe\">\n",
       "  <thead>\n",
       "    <tr style=\"text-align: right;\">\n",
       "      <th></th>\n",
       "      <th>pt</th>\n",
       "      <th>outcome_concept_id</th>\n",
       "      <th>snomed_outcome_concept_id</th>\n",
       "      <th>pri_isr</th>\n",
       "    </tr>\n",
       "  </thead>\n",
       "  <tbody>\n",
       "    <tr>\n",
       "      <th>1</th>\n",
       "      <td>CONVULSION</td>\n",
       "      <td>36718526</td>\n",
       "      <td>377091.0</td>\n",
       "      <td>7794268.0</td>\n",
       "    </tr>\n",
       "    <tr>\n",
       "      <th>2</th>\n",
       "      <td>PYREXIA</td>\n",
       "      <td>35809054</td>\n",
       "      <td>437663.0</td>\n",
       "      <td>7794268.0</td>\n",
       "    </tr>\n",
       "    <tr>\n",
       "      <th>3</th>\n",
       "      <td>ANGINA PECTORIS</td>\n",
       "      <td>35205181</td>\n",
       "      <td>321318.0</td>\n",
       "      <td>7794269.0</td>\n",
       "    </tr>\n",
       "    <tr>\n",
       "      <th>4</th>\n",
       "      <td>CEREBROVASCULAR DISORDER</td>\n",
       "      <td>36718045</td>\n",
       "      <td>381591.0</td>\n",
       "      <td>7794269.0</td>\n",
       "    </tr>\n",
       "    <tr>\n",
       "      <th>5</th>\n",
       "      <td>COMPLICATIONS OF TRANSPLANTED KIDNEY</td>\n",
       "      <td>36211758</td>\n",
       "      <td>199991.0</td>\n",
       "      <td>7794269.0</td>\n",
       "    </tr>\n",
       "  </tbody>\n",
       "</table>\n",
       "</div>"
      ],
      "text/plain": [
       "                                     pt  outcome_concept_id  \\\n",
       "1                            CONVULSION            36718526   \n",
       "2                               PYREXIA            35809054   \n",
       "3                       ANGINA PECTORIS            35205181   \n",
       "4              CEREBROVASCULAR DISORDER            36718045   \n",
       "5  COMPLICATIONS OF TRANSPLANTED KIDNEY            36211758   \n",
       "\n",
       "   snomed_outcome_concept_id    pri_isr  \n",
       "1                   377091.0  7794268.0  \n",
       "2                   437663.0  7794268.0  \n",
       "3                   321318.0  7794269.0  \n",
       "4                   381591.0  7794269.0  \n",
       "5                   199991.0  7794269.0  "
      ]
     },
     "execution_count": 71,
     "metadata": {},
     "output_type": "execute_result"
    }
   ],
   "source": [
    "standard_case_outcome=standard_case_outcome.dropna() \n",
    " \n",
    "print(\"After dropping Null values \", standard_case_outcome.isna().sum())\n",
    "standard_case_outcome.head()"
   ]
  },
  {
   "cell_type": "code",
   "execution_count": 72,
   "metadata": {},
   "outputs": [
    {
     "data": {
      "text/html": [
       "<div>\n",
       "<style scoped>\n",
       "    .dataframe tbody tr th:only-of-type {\n",
       "        vertical-align: middle;\n",
       "    }\n",
       "\n",
       "    .dataframe tbody tr th {\n",
       "        vertical-align: top;\n",
       "    }\n",
       "\n",
       "    .dataframe thead th {\n",
       "        text-align: right;\n",
       "    }\n",
       "</style>\n",
       "<table border=\"1\" class=\"dataframe\">\n",
       "  <thead>\n",
       "    <tr style=\"text-align: right;\">\n",
       "      <th></th>\n",
       "      <th>primaryid</th>\n",
       "      <th>isr</th>\n",
       "      <th>outc_code</th>\n",
       "      <th>snomed_concept_id</th>\n",
       "    </tr>\n",
       "  </thead>\n",
       "  <tbody>\n",
       "    <tr>\n",
       "      <th>0</th>\n",
       "      <td>101992751.0</td>\n",
       "      <td>NaN</td>\n",
       "      <td>NaN</td>\n",
       "      <td>NaN</td>\n",
       "    </tr>\n",
       "    <tr>\n",
       "      <th>1</th>\n",
       "      <td>NaN</td>\n",
       "      <td>5508037.0</td>\n",
       "      <td>OT</td>\n",
       "      <td>4001594.0</td>\n",
       "    </tr>\n",
       "    <tr>\n",
       "      <th>2</th>\n",
       "      <td>NaN</td>\n",
       "      <td>5940395.0</td>\n",
       "      <td>OT</td>\n",
       "      <td>4001594.0</td>\n",
       "    </tr>\n",
       "    <tr>\n",
       "      <th>3</th>\n",
       "      <td>101935161.0</td>\n",
       "      <td>NaN</td>\n",
       "      <td>NaN</td>\n",
       "      <td>NaN</td>\n",
       "    </tr>\n",
       "    <tr>\n",
       "      <th>4</th>\n",
       "      <td>89828952.0</td>\n",
       "      <td>NaN</td>\n",
       "      <td>OT</td>\n",
       "      <td>4001594.0</td>\n",
       "    </tr>\n",
       "  </tbody>\n",
       "</table>\n",
       "</div>"
      ],
      "text/plain": [
       "     primaryid        isr outc_code  snomed_concept_id\n",
       "0  101992751.0        NaN       NaN                NaN\n",
       "1          NaN  5508037.0        OT          4001594.0\n",
       "2          NaN  5940395.0        OT          4001594.0\n",
       "3  101935161.0        NaN       NaN                NaN\n",
       "4   89828952.0        NaN        OT          4001594.0"
      ]
     },
     "execution_count": 72,
     "metadata": {},
     "output_type": "execute_result"
    }
   ],
   "source": [
    "standard_case_outcome_category.head()"
   ]
  },
  {
   "cell_type": "code",
   "execution_count": 73,
   "metadata": {},
   "outputs": [
    {
     "name": "stdout",
     "output_type": "stream",
     "text": [
      "The dataset contains 5700244 observations and 4 variables.\n",
      "Null values  primaryid            62.0\n",
      "isr                  38.0\n",
      "outc_code            31.0\n",
      "snomed_concept_id    31.0\n",
      "dtype: float64 2\n"
     ]
    }
   ],
   "source": [
    "print(\"The dataset contains\",standard_case_outcome_category.shape[0], \"observations and\", standard_case_outcome_category.shape[1], \"variables.\")\n",
    "print(\"Null values \", round((standard_case_outcome_category.isna().sum()/standard_case_outcome_category.shape[0]) *100),2)"
   ]
  },
  {
   "cell_type": "code",
   "execution_count": 74,
   "metadata": {},
   "outputs": [],
   "source": [
    "standard_case_outcome_category['pri_isr']=standard_case_outcome_category['primaryid']\n",
    "standard_case_outcome_category['pri_isr'].fillna(value = standard_case_outcome_category['isr'],  inplace = True) \n",
    "standard_case_outcome_category.drop(['primaryid','isr'],inplace=True, axis=1)\n"
   ]
  },
  {
   "cell_type": "code",
   "execution_count": 75,
   "metadata": {},
   "outputs": [
    {
     "name": "stdout",
     "output_type": "stream",
     "text": [
      "After dropping Null values  outc_code            0\n",
      "snomed_concept_id    0\n",
      "pri_isr              0\n",
      "dtype: int64\n"
     ]
    },
    {
     "data": {
      "text/html": [
       "<div>\n",
       "<style scoped>\n",
       "    .dataframe tbody tr th:only-of-type {\n",
       "        vertical-align: middle;\n",
       "    }\n",
       "\n",
       "    .dataframe tbody tr th {\n",
       "        vertical-align: top;\n",
       "    }\n",
       "\n",
       "    .dataframe thead th {\n",
       "        text-align: right;\n",
       "    }\n",
       "</style>\n",
       "<table border=\"1\" class=\"dataframe\">\n",
       "  <thead>\n",
       "    <tr style=\"text-align: right;\">\n",
       "      <th></th>\n",
       "      <th>outc_code</th>\n",
       "      <th>snomed_concept_id</th>\n",
       "      <th>pri_isr</th>\n",
       "    </tr>\n",
       "  </thead>\n",
       "  <tbody>\n",
       "    <tr>\n",
       "      <th>1</th>\n",
       "      <td>OT</td>\n",
       "      <td>4001594.0</td>\n",
       "      <td>5508037.0</td>\n",
       "    </tr>\n",
       "    <tr>\n",
       "      <th>2</th>\n",
       "      <td>OT</td>\n",
       "      <td>4001594.0</td>\n",
       "      <td>5940395.0</td>\n",
       "    </tr>\n",
       "    <tr>\n",
       "      <th>4</th>\n",
       "      <td>OT</td>\n",
       "      <td>4001594.0</td>\n",
       "      <td>89828952.0</td>\n",
       "    </tr>\n",
       "    <tr>\n",
       "      <th>5</th>\n",
       "      <td>OT</td>\n",
       "      <td>4001594.0</td>\n",
       "      <td>96256912.0</td>\n",
       "    </tr>\n",
       "    <tr>\n",
       "      <th>6</th>\n",
       "      <td>OT</td>\n",
       "      <td>4001594.0</td>\n",
       "      <td>5715288.0</td>\n",
       "    </tr>\n",
       "  </tbody>\n",
       "</table>\n",
       "</div>"
      ],
      "text/plain": [
       "  outc_code  snomed_concept_id     pri_isr\n",
       "1        OT          4001594.0   5508037.0\n",
       "2        OT          4001594.0   5940395.0\n",
       "4        OT          4001594.0  89828952.0\n",
       "5        OT          4001594.0  96256912.0\n",
       "6        OT          4001594.0   5715288.0"
      ]
     },
     "execution_count": 75,
     "metadata": {},
     "output_type": "execute_result"
    }
   ],
   "source": [
    "standard_case_outcome_category=standard_case_outcome_category.dropna() \n",
    " \n",
    "print(\"After dropping Null values \", standard_case_outcome_category.isna().sum())\n",
    "standard_case_outcome_category.head()"
   ]
  },
  {
   "cell_type": "code",
   "execution_count": 76,
   "metadata": {},
   "outputs": [],
   "source": [
    "standard_case_outcome_1 = standard_case_outcome.drop_duplicates(subset=['pri_isr'])\n",
    "standard_case_outcome_category_1 = standard_case_outcome_category.drop_duplicates(subset=['pri_isr'])\n"
   ]
  },
  {
   "cell_type": "code",
   "execution_count": 77,
   "metadata": {},
   "outputs": [],
   "source": [
    "standard_case_df_2=pd.merge(standard_case_outcome_1,standard_case_outcome_category_1,how=\"inner\", on='pri_isr')"
   ]
  },
  {
   "cell_type": "code",
   "execution_count": 78,
   "metadata": {},
   "outputs": [
    {
     "name": "stdout",
     "output_type": "stream",
     "text": [
      " # of rows in standard_case_outcome --> 4441899\n",
      " # of rows in standard_case_outcome_category --> 3189053\n",
      " # of rows in standard_case_df_2 --> 2993411\n"
     ]
    }
   ],
   "source": [
    "print(' # of rows in standard_case_outcome -->',standard_case_outcome_1.shape[0])\n",
    "print(' # of rows in standard_case_outcome_category -->',standard_case_outcome_category_1.shape[0])\n",
    "print(' # of rows in standard_case_df_2 -->',standard_case_df_2.shape[0])"
   ]
  },
  {
   "cell_type": "code",
   "execution_count": 79,
   "metadata": {},
   "outputs": [
    {
     "data": {
      "text/html": [
       "<div>\n",
       "<style scoped>\n",
       "    .dataframe tbody tr th:only-of-type {\n",
       "        vertical-align: middle;\n",
       "    }\n",
       "\n",
       "    .dataframe tbody tr th {\n",
       "        vertical-align: top;\n",
       "    }\n",
       "\n",
       "    .dataframe thead th {\n",
       "        text-align: right;\n",
       "    }\n",
       "</style>\n",
       "<table border=\"1\" class=\"dataframe\">\n",
       "  <thead>\n",
       "    <tr style=\"text-align: right;\">\n",
       "      <th></th>\n",
       "      <th>pt</th>\n",
       "      <th>outcome_concept_id</th>\n",
       "      <th>snomed_outcome_concept_id</th>\n",
       "      <th>pri_isr</th>\n",
       "      <th>outc_code</th>\n",
       "      <th>snomed_concept_id</th>\n",
       "    </tr>\n",
       "  </thead>\n",
       "  <tbody>\n",
       "    <tr>\n",
       "      <th>0</th>\n",
       "      <td>CONVULSION</td>\n",
       "      <td>36718526</td>\n",
       "      <td>377091.0</td>\n",
       "      <td>7794268.0</td>\n",
       "      <td>OT</td>\n",
       "      <td>4001594.0</td>\n",
       "    </tr>\n",
       "    <tr>\n",
       "      <th>1</th>\n",
       "      <td>ANGINA PECTORIS</td>\n",
       "      <td>35205181</td>\n",
       "      <td>321318.0</td>\n",
       "      <td>7794269.0</td>\n",
       "      <td>OT</td>\n",
       "      <td>4001594.0</td>\n",
       "    </tr>\n",
       "    <tr>\n",
       "      <th>2</th>\n",
       "      <td>DYSKINESIA</td>\n",
       "      <td>36718199</td>\n",
       "      <td>373185.0</td>\n",
       "      <td>7794271.0</td>\n",
       "      <td>HO</td>\n",
       "      <td>8715.0</td>\n",
       "    </tr>\n",
       "    <tr>\n",
       "      <th>3</th>\n",
       "      <td>DYSKINESIA</td>\n",
       "      <td>36718199</td>\n",
       "      <td>373185.0</td>\n",
       "      <td>7794272.0</td>\n",
       "      <td>HO</td>\n",
       "      <td>8715.0</td>\n",
       "    </tr>\n",
       "    <tr>\n",
       "      <th>4</th>\n",
       "      <td>CHONDROPATHY</td>\n",
       "      <td>36517132</td>\n",
       "      <td>81711.0</td>\n",
       "      <td>7794276.0</td>\n",
       "      <td>OT</td>\n",
       "      <td>4001594.0</td>\n",
       "    </tr>\n",
       "  </tbody>\n",
       "</table>\n",
       "</div>"
      ],
      "text/plain": [
       "                pt  outcome_concept_id  snomed_outcome_concept_id    pri_isr  \\\n",
       "0       CONVULSION            36718526                   377091.0  7794268.0   \n",
       "1  ANGINA PECTORIS            35205181                   321318.0  7794269.0   \n",
       "2       DYSKINESIA            36718199                   373185.0  7794271.0   \n",
       "3       DYSKINESIA            36718199                   373185.0  7794272.0   \n",
       "4     CHONDROPATHY            36517132                    81711.0  7794276.0   \n",
       "\n",
       "  outc_code  snomed_concept_id  \n",
       "0        OT          4001594.0  \n",
       "1        OT          4001594.0  \n",
       "2        HO             8715.0  \n",
       "3        HO             8715.0  \n",
       "4        OT          4001594.0  "
      ]
     },
     "execution_count": 79,
     "metadata": {},
     "output_type": "execute_result"
    }
   ],
   "source": [
    "standard_case_df_2.head()"
   ]
  },
  {
   "cell_type": "code",
   "execution_count": null,
   "metadata": {},
   "outputs": [],
   "source": []
  },
  {
   "cell_type": "code",
   "execution_count": 49,
   "metadata": {},
   "outputs": [
    {
     "data": {
      "text/plain": [
       "(3766382, 4)"
      ]
     },
     "execution_count": 49,
     "metadata": {},
     "output_type": "execute_result"
    }
   ],
   "source": [
    "import pandas as pd\n",
    "standard_drug_outcome_contingency_table=pd.read_csv('C:/Users/acer/desktop/aeolus_v1/standard_drug_outcome_contingency_table.tsv',low_memory=False,na_values=['\\\\N'],delimiter='\\t',header=None,names=['drug_concept_id','outcome_concept_id','count_a','count_b','count_c','count_d']) \n",
    "standard_drug_outcome_count=pd.read_csv('C:/Users/acer/desktop/aeolus_v1/standard_drug_outcome_count.tsv',delimiter='\\t',na_values=['\\\\N'],header=None,low_memory=False,names=['drug_concept_id','outcome_concept_id','drug_outcome_pair_count','snomed_outcome_concept_id']) \n",
    "standard_drug_outcome_count.shape"
   ]
  },
  {
   "cell_type": "code",
   "execution_count": null,
   "metadata": {},
   "outputs": [],
   "source": []
  },
  {
   "cell_type": "code",
   "execution_count": 50,
   "metadata": {},
   "outputs": [
    {
     "name": "stdout",
     "output_type": "stream",
     "text": [
      "The dataset contains 3766382 observations and 6 variables.\n",
      "Null values  drug_concept_id       0.0\n",
      "outcome_concept_id    0.0\n",
      "count_a               0.0\n",
      "count_b               0.0\n",
      "count_c               0.0\n",
      "count_d               0.0\n",
      "dtype: float64 2\n"
     ]
    }
   ],
   "source": [
    "print(\"The dataset contains\",standard_drug_outcome_contingency_table.shape[0], \"observations and\", standard_drug_outcome_contingency_table.shape[1], \"variables.\")\n",
    "print(\"Null values \", round((standard_drug_outcome_contingency_table.isna().sum()/standard_drug_outcome_contingency_table.shape[0]) *100),2)\n"
   ]
  },
  {
   "cell_type": "code",
   "execution_count": 51,
   "metadata": {},
   "outputs": [
    {
     "data": {
      "text/html": [
       "<div>\n",
       "<style scoped>\n",
       "    .dataframe tbody tr th:only-of-type {\n",
       "        vertical-align: middle;\n",
       "    }\n",
       "\n",
       "    .dataframe tbody tr th {\n",
       "        vertical-align: top;\n",
       "    }\n",
       "\n",
       "    .dataframe thead th {\n",
       "        text-align: right;\n",
       "    }\n",
       "</style>\n",
       "<table border=\"1\" class=\"dataframe\">\n",
       "  <thead>\n",
       "    <tr style=\"text-align: right;\">\n",
       "      <th></th>\n",
       "      <th>drug_concept_id</th>\n",
       "      <th>outcome_concept_id</th>\n",
       "      <th>count_a</th>\n",
       "      <th>count_b</th>\n",
       "      <th>count_c</th>\n",
       "      <th>count_d</th>\n",
       "    </tr>\n",
       "  </thead>\n",
       "  <tbody>\n",
       "    <tr>\n",
       "      <th>0</th>\n",
       "      <td>702865</td>\n",
       "      <td>35104065</td>\n",
       "      <td>1</td>\n",
       "      <td>8365.0</td>\n",
       "      <td>256.0</td>\n",
       "      <td>60658372</td>\n",
       "    </tr>\n",
       "    <tr>\n",
       "      <th>1</th>\n",
       "      <td>705103</td>\n",
       "      <td>35104065</td>\n",
       "      <td>1</td>\n",
       "      <td>186947.0</td>\n",
       "      <td>256.0</td>\n",
       "      <td>60479790</td>\n",
       "    </tr>\n",
       "    <tr>\n",
       "      <th>2</th>\n",
       "      <td>710062</td>\n",
       "      <td>35104065</td>\n",
       "      <td>5</td>\n",
       "      <td>184297.0</td>\n",
       "      <td>252.0</td>\n",
       "      <td>60482440</td>\n",
       "    </tr>\n",
       "    <tr>\n",
       "      <th>3</th>\n",
       "      <td>711584</td>\n",
       "      <td>35104065</td>\n",
       "      <td>2</td>\n",
       "      <td>106731.0</td>\n",
       "      <td>255.0</td>\n",
       "      <td>60560006</td>\n",
       "    </tr>\n",
       "    <tr>\n",
       "      <th>4</th>\n",
       "      <td>713196</td>\n",
       "      <td>35104065</td>\n",
       "      <td>1</td>\n",
       "      <td>58809.0</td>\n",
       "      <td>256.0</td>\n",
       "      <td>60607928</td>\n",
       "    </tr>\n",
       "  </tbody>\n",
       "</table>\n",
       "</div>"
      ],
      "text/plain": [
       "   drug_concept_id  outcome_concept_id  count_a   count_b  count_c   count_d\n",
       "0           702865            35104065        1    8365.0    256.0  60658372\n",
       "1           705103            35104065        1  186947.0    256.0  60479790\n",
       "2           710062            35104065        5  184297.0    252.0  60482440\n",
       "3           711584            35104065        2  106731.0    255.0  60560006\n",
       "4           713196            35104065        1   58809.0    256.0  60607928"
      ]
     },
     "execution_count": 51,
     "metadata": {},
     "output_type": "execute_result"
    }
   ],
   "source": [
    "standard_drug_outcome_contingency_table.head()"
   ]
  },
  {
   "cell_type": "code",
   "execution_count": 80,
   "metadata": {},
   "outputs": [
    {
     "name": "stdout",
     "output_type": "stream",
     "text": [
      "The dataset contains 3766382 observations and 4 variables.\n",
      "Null values  drug_concept_id               0.0\n",
      "outcome_concept_id            0.0\n",
      "drug_outcome_pair_count       0.0\n",
      "snomed_outcome_concept_id    34.0\n",
      "dtype: float64 2\n"
     ]
    }
   ],
   "source": [
    "print(\"The dataset contains\",standard_drug_outcome_count.shape[0], \"observations and\", standard_drug_outcome_count.shape[1], \"variables.\")\n",
    "print(\"Null values \", round((standard_drug_outcome_count.isna().sum()/standard_drug_outcome_count.shape[0]) *100),2)"
   ]
  },
  {
   "cell_type": "code",
   "execution_count": 81,
   "metadata": {},
   "outputs": [
    {
     "name": "stdout",
     "output_type": "stream",
     "text": [
      "After dropping Null values  drug_concept_id              0\n",
      "outcome_concept_id           0\n",
      "drug_outcome_pair_count      0\n",
      "snomed_outcome_concept_id    0\n",
      "dtype: int64\n"
     ]
    },
    {
     "data": {
      "text/html": [
       "<div>\n",
       "<style scoped>\n",
       "    .dataframe tbody tr th:only-of-type {\n",
       "        vertical-align: middle;\n",
       "    }\n",
       "\n",
       "    .dataframe tbody tr th {\n",
       "        vertical-align: top;\n",
       "    }\n",
       "\n",
       "    .dataframe thead th {\n",
       "        text-align: right;\n",
       "    }\n",
       "</style>\n",
       "<table border=\"1\" class=\"dataframe\">\n",
       "  <thead>\n",
       "    <tr style=\"text-align: right;\">\n",
       "      <th></th>\n",
       "      <th>drug_concept_id</th>\n",
       "      <th>outcome_concept_id</th>\n",
       "      <th>drug_outcome_pair_count</th>\n",
       "      <th>snomed_outcome_concept_id</th>\n",
       "    </tr>\n",
       "  </thead>\n",
       "  <tbody>\n",
       "    <tr>\n",
       "      <th>0</th>\n",
       "      <td>1769535</td>\n",
       "      <td>35708310</td>\n",
       "      <td>2</td>\n",
       "      <td>4119306.0</td>\n",
       "    </tr>\n",
       "    <tr>\n",
       "      <th>1</th>\n",
       "      <td>19011773</td>\n",
       "      <td>35707684</td>\n",
       "      <td>36</td>\n",
       "      <td>4281516.0</td>\n",
       "    </tr>\n",
       "    <tr>\n",
       "      <th>2</th>\n",
       "      <td>1774470</td>\n",
       "      <td>37019455</td>\n",
       "      <td>3</td>\n",
       "      <td>4171974.0</td>\n",
       "    </tr>\n",
       "    <tr>\n",
       "      <th>5</th>\n",
       "      <td>937368</td>\n",
       "      <td>35707781</td>\n",
       "      <td>9</td>\n",
       "      <td>201131.0</td>\n",
       "    </tr>\n",
       "    <tr>\n",
       "      <th>6</th>\n",
       "      <td>19054825</td>\n",
       "      <td>35104349</td>\n",
       "      <td>1</td>\n",
       "      <td>135768.0</td>\n",
       "    </tr>\n",
       "  </tbody>\n",
       "</table>\n",
       "</div>"
      ],
      "text/plain": [
       "   drug_concept_id  outcome_concept_id  drug_outcome_pair_count  \\\n",
       "0          1769535            35708310                        2   \n",
       "1         19011773            35707684                       36   \n",
       "2          1774470            37019455                        3   \n",
       "5           937368            35707781                        9   \n",
       "6         19054825            35104349                        1   \n",
       "\n",
       "   snomed_outcome_concept_id  \n",
       "0                  4119306.0  \n",
       "1                  4281516.0  \n",
       "2                  4171974.0  \n",
       "5                   201131.0  \n",
       "6                   135768.0  "
      ]
     },
     "execution_count": 81,
     "metadata": {},
     "output_type": "execute_result"
    }
   ],
   "source": [
    "standard_drug_outcome_count=standard_drug_outcome_count.dropna() \n",
    " \n",
    "print(\"After dropping Null values \", standard_drug_outcome_count.isna().sum())\n",
    "standard_drug_outcome_count.head()"
   ]
  },
  {
   "cell_type": "code",
   "execution_count": 82,
   "metadata": {},
   "outputs": [],
   "source": [
    " standard_case_df=pd.merge(standard_case_df_1, standard_case_df_2, how=\"inner\", on=['pri_isr'])"
   ]
  },
  {
   "cell_type": "code",
   "execution_count": 83,
   "metadata": {},
   "outputs": [
    {
     "name": "stdout",
     "output_type": "stream",
     "text": [
      " # of rows in standard_case_df_1--> 3062595\n",
      " # of rows in standard_case_df_2 --> 2993411\n",
      " # of rows in standard_case_df --> 1906394\n"
     ]
    }
   ],
   "source": [
    "print(' # of rows in standard_case_df_1-->',standard_case_df_1.shape[0])\n",
    "print(' # of rows in standard_case_df_2 -->',standard_case_df_2.shape[0])\n",
    "print(' # of rows in standard_case_df -->',standard_case_df.shape[0])\n"
   ]
  },
  {
   "cell_type": "code",
   "execution_count": 84,
   "metadata": {},
   "outputs": [
    {
     "data": {
      "text/html": [
       "<div>\n",
       "<style scoped>\n",
       "    .dataframe tbody tr th:only-of-type {\n",
       "        vertical-align: middle;\n",
       "    }\n",
       "\n",
       "    .dataframe tbody tr th {\n",
       "        vertical-align: top;\n",
       "    }\n",
       "\n",
       "    .dataframe thead th {\n",
       "        text-align: right;\n",
       "    }\n",
       "</style>\n",
       "<table border=\"1\" class=\"dataframe\">\n",
       "  <thead>\n",
       "    <tr style=\"text-align: right;\">\n",
       "      <th></th>\n",
       "      <th>drug_seq</th>\n",
       "      <th>role_cod</th>\n",
       "      <th>standard_concept_id</th>\n",
       "      <th>pri_isr</th>\n",
       "      <th>indi_drug_seq</th>\n",
       "      <th>indi_pt</th>\n",
       "      <th>indication_concept_id</th>\n",
       "      <th>snomed_indication_concept_id</th>\n",
       "      <th>pt</th>\n",
       "      <th>outcome_concept_id</th>\n",
       "      <th>snomed_outcome_concept_id</th>\n",
       "      <th>outc_code</th>\n",
       "      <th>snomed_concept_id</th>\n",
       "    </tr>\n",
       "  </thead>\n",
       "  <tbody>\n",
       "    <tr>\n",
       "      <th>0</th>\n",
       "      <td>4</td>\n",
       "      <td>C</td>\n",
       "      <td>711584</td>\n",
       "      <td>101551742.0</td>\n",
       "      <td>4</td>\n",
       "      <td>Convulsion</td>\n",
       "      <td>36718526</td>\n",
       "      <td>377091.0</td>\n",
       "      <td>Aspiration</td>\n",
       "      <td>37219937</td>\n",
       "      <td>4239038.0</td>\n",
       "      <td>HO</td>\n",
       "      <td>8715.0</td>\n",
       "    </tr>\n",
       "    <tr>\n",
       "      <th>1</th>\n",
       "      <td>1006505295</td>\n",
       "      <td>C</td>\n",
       "      <td>19011773</td>\n",
       "      <td>4787243.0</td>\n",
       "      <td>1006480200</td>\n",
       "      <td>HEPATITIS C</td>\n",
       "      <td>35909578</td>\n",
       "      <td>197494.0</td>\n",
       "      <td>NEUTROPENIA</td>\n",
       "      <td>35104883</td>\n",
       "      <td>320073.0</td>\n",
       "      <td>OT</td>\n",
       "      <td>4001594.0</td>\n",
       "    </tr>\n",
       "    <tr>\n",
       "      <th>2</th>\n",
       "      <td>1013792507</td>\n",
       "      <td>SS</td>\n",
       "      <td>40163615</td>\n",
       "      <td>6751326.0</td>\n",
       "      <td>1013792506</td>\n",
       "      <td>HEART RATE IRREGULAR</td>\n",
       "      <td>36311984</td>\n",
       "      <td>4262985.0</td>\n",
       "      <td>ABDOMINAL PAIN UPPER</td>\n",
       "      <td>35708156</td>\n",
       "      <td>4306292.0</td>\n",
       "      <td>HO</td>\n",
       "      <td>8715.0</td>\n",
       "    </tr>\n",
       "    <tr>\n",
       "      <th>3</th>\n",
       "      <td>1007299260</td>\n",
       "      <td>C</td>\n",
       "      <td>1154029</td>\n",
       "      <td>4995268.0</td>\n",
       "      <td>1007257597</td>\n",
       "      <td>SCHIZOAFFECTIVE DISORDER</td>\n",
       "      <td>36919154</td>\n",
       "      <td>4286201.0</td>\n",
       "      <td>DEATH</td>\n",
       "      <td>35809059</td>\n",
       "      <td>434489.0</td>\n",
       "      <td>DE</td>\n",
       "      <td>4306655.0</td>\n",
       "    </tr>\n",
       "    <tr>\n",
       "      <th>4</th>\n",
       "      <td>1</td>\n",
       "      <td>PS</td>\n",
       "      <td>1110942</td>\n",
       "      <td>92198372.0</td>\n",
       "      <td>1</td>\n",
       "      <td>Asthma</td>\n",
       "      <td>36009700</td>\n",
       "      <td>317009.0</td>\n",
       "      <td>Asthma</td>\n",
       "      <td>36009700</td>\n",
       "      <td>317009.0</td>\n",
       "      <td>OT</td>\n",
       "      <td>4001594.0</td>\n",
       "    </tr>\n",
       "  </tbody>\n",
       "</table>\n",
       "</div>"
      ],
      "text/plain": [
       "     drug_seq role_cod  standard_concept_id      pri_isr  indi_drug_seq  \\\n",
       "0           4        C               711584  101551742.0              4   \n",
       "1  1006505295        C             19011773    4787243.0     1006480200   \n",
       "2  1013792507       SS             40163615    6751326.0     1013792506   \n",
       "3  1007299260        C              1154029    4995268.0     1007257597   \n",
       "4           1       PS              1110942   92198372.0              1   \n",
       "\n",
       "                    indi_pt  indication_concept_id  \\\n",
       "0                Convulsion               36718526   \n",
       "1               HEPATITIS C               35909578   \n",
       "2      HEART RATE IRREGULAR               36311984   \n",
       "3  SCHIZOAFFECTIVE DISORDER               36919154   \n",
       "4                    Asthma               36009700   \n",
       "\n",
       "   snomed_indication_concept_id                    pt  outcome_concept_id  \\\n",
       "0                      377091.0            Aspiration            37219937   \n",
       "1                      197494.0           NEUTROPENIA            35104883   \n",
       "2                     4262985.0  ABDOMINAL PAIN UPPER            35708156   \n",
       "3                     4286201.0                 DEATH            35809059   \n",
       "4                      317009.0                Asthma            36009700   \n",
       "\n",
       "   snomed_outcome_concept_id outc_code  snomed_concept_id  \n",
       "0                  4239038.0        HO             8715.0  \n",
       "1                   320073.0        OT          4001594.0  \n",
       "2                  4306292.0        HO             8715.0  \n",
       "3                   434489.0        DE          4306655.0  \n",
       "4                   317009.0        OT          4001594.0  "
      ]
     },
     "execution_count": 84,
     "metadata": {},
     "output_type": "execute_result"
    }
   ],
   "source": [
    "standard_case_df.head()"
   ]
  },
  {
   "cell_type": "code",
   "execution_count": null,
   "metadata": {},
   "outputs": [],
   "source": [
    "import pandas as pd\n",
    "standard_drug_outcome_drilldown=pd.read_csv('C:/Users/acer/desktop/aeolus_v1/standard_drug_outcome_drilldown.tsv',low_memory=False,na_values=['\\\\N'],delimiter='\\t',header=None,names=['drug_concept_id','outcome_concept_id','snomed_outcome_concept_id','primaryid','isr']) \n",
    "standard_drug_outcome_statistics=pd.read_csv('C:/Users/acer/desktop/aeolus_v1/standard_drug_outcome_statistics.tsv',low_memory=False,na_values=['\\\\N'],delimiter='\\t',header=None,names=['drug_concept_id','outcome_concept_id','snomed_outcome_concept_id','case_count','prr', 'prr_95_percent_upper_confidence_limit', 'prr_95_percent_lower_confidence_limit' ,'ror' ,'ror_95_percent_upper_confidence_limit' ,'ror_95_percent_lower_confidence_limit']) \n",
    "standard_unique_all_case=pd.read_csv('C:/Users/acer/desktop/aeolus_v1/standard_unique_all_case.tsv',low_memory=False,na_values=['\\\\N'],delimiter='\\t',header=None,names=['caseid','primaryid','isr']) \n"
   ]
  },
  {
   "cell_type": "code",
   "execution_count": null,
   "metadata": {},
   "outputs": [],
   "source": [
    "standard_drug_outcome_drilldown.head()"
   ]
  },
  {
   "cell_type": "code",
   "execution_count": null,
   "metadata": {},
   "outputs": [],
   "source": [
    "print(\"The dataset contains\",standard_drug_outcome_drilldown.shape[0], \"observations and\", standard_drug_outcome_drilldown.shape[1], \"variables.\")\n",
    "print(\"Null values \", round((standard_drug_outcome_drilldown.isna().sum()/standard_drug_outcome_drilldown.shape[0]) *100),2)\n"
   ]
  },
  {
   "cell_type": "code",
   "execution_count": null,
   "metadata": {},
   "outputs": [],
   "source": [
    "standard_drug_outcome_drilldown['pri_isr']=standard_drug_outcome_drilldown['primaryid']\n",
    "standard_drug_outcome_drilldown['pri_isr'].fillna(value = standard_drug_outcome_drilldown['isr'],  inplace = True) \n",
    "standard_drug_outcome_drilldown.drop(['primaryid','isr'],inplace=True, axis=1)\n"
   ]
  },
  {
   "cell_type": "code",
   "execution_count": null,
   "metadata": {},
   "outputs": [],
   "source": [
    "standard_drug_outcome_drilldown=standard_drug_outcome_drilldown.dropna() \n",
    " \n",
    "print(\"After dropping Null values \", standard_drug_outcome_drilldown.isna().sum())\n",
    "standard_drug_outcome_drilldown.head()"
   ]
  },
  {
   "cell_type": "code",
   "execution_count": null,
   "metadata": {},
   "outputs": [],
   "source": [
    "print(\"The dataset contains\",standard_drug_outcome_statistics.shape[0], \"observations and\", standard_drug_outcome_statistics.shape[1], \"variables.\")\n",
    "print(\"Null values \", round((standard_drug_outcome_statistics.isna().sum()/standard_drug_outcome_statistics.shape[0]) *100),2)\n"
   ]
  },
  {
   "cell_type": "code",
   "execution_count": null,
   "metadata": {},
   "outputs": [],
   "source": [
    "print(\"The dataset contains\",standard_unique_all_case.shape[0], \"observations and\", standard_unique_all_case.shape[1], \"variables.\")\n",
    "print(\"Null values \", round((standard_unique_all_case.isna().sum()/standard_unique_all_case.shape[0]) *100),2)"
   ]
  },
  {
   "cell_type": "code",
   "execution_count": null,
   "metadata": {},
   "outputs": [],
   "source": [
    "standard_unique_all_case['pri_isr']=standard_unique_all_case['primaryid']\n",
    "standard_unique_all_case['pri_isr'].fillna(value = standard_unique_all_case['isr'],  inplace = True) \n",
    "standard_unique_all_case.drop(['primaryid','isr'],inplace=True, axis=1)\n"
   ]
  },
  {
   "cell_type": "code",
   "execution_count": null,
   "metadata": {},
   "outputs": [],
   "source": [
    "standard_unique_all_case=standard_unique_all_case.dropna() \n",
    " \n",
    "print(\"After dropping Null values \", standard_unique_all_case.isna().sum())\n",
    "standard_unique_all_case.head()"
   ]
  },
  {
   "cell_type": "code",
   "execution_count": null,
   "metadata": {},
   "outputs": [],
   "source": [
    "standard_drug_outcome_contingency_table_1 = standard_drug_outcome_contingency_table.drop_duplicates(subset=['drug_concept_id','outcome_concept_id'])\n",
    "standard_drug_outcome_count_1 = standard_drug_outcome_count.drop_duplicates(subset=['drug_concept_id','outcome_concept_id'])\n",
    "standard_drug_outcome_drilldown_1 = standard_drug_outcome_drilldown.drop_duplicates(subset=['drug_concept_id','outcome_concept_id'])\n",
    "standard_drug_outcome_statistics_1 = standard_drug_outcome_statistics.drop_duplicates(subset=['drug_concept_id','outcome_concept_id'])"
   ]
  },
  {
   "cell_type": "code",
   "execution_count": null,
   "metadata": {},
   "outputs": [],
   "source": [
    " standard_drug_df_1=pd.merge(standard_drug_outcome_contingency_table_1, standard_drug_outcome_count_1, how=\"inner\", on=['drug_concept_id','outcome_concept_id'])"
   ]
  },
  {
   "cell_type": "code",
   "execution_count": null,
   "metadata": {},
   "outputs": [],
   "source": [
    "print(' # of rows in standard_case_df_1-->',standard_drug_outcome_contingency_table_1.shape[0])\n",
    "print(' # of rows in standard_case_df_2 -->',standard_drug_outcome_count_1.shape[0])\n",
    "print(' # of rows in standard_drug_df_1 -->',standard_drug_df_1.shape[0])\n"
   ]
  },
  {
   "cell_type": "code",
   "execution_count": null,
   "metadata": {},
   "outputs": [],
   "source": [
    " standard_drug_df_2=pd.merge(standard_drug_outcome_drilldown_1, standard_drug_outcome_statistics_1, how=\"inner\", on=['drug_concept_id','outcome_concept_id'])"
   ]
  },
  {
   "cell_type": "code",
   "execution_count": null,
   "metadata": {},
   "outputs": [],
   "source": [
    "print(' # of rows in standard_drug_outcome_drilldown-->',standard_drug_outcome_drilldown_1.shape[0])\n",
    "print(' # of rows in standard_drug_outcome_statistics -->',standard_drug_outcome_statistics_1.shape[0])\n",
    "print(' # of rows in standard_drug_df_2 -->',standard_drug_df_2.shape[0])\n"
   ]
  },
  {
   "cell_type": "code",
   "execution_count": null,
   "metadata": {},
   "outputs": [],
   "source": [
    " standard_drug_df=pd.merge(standard_drug_df_1, standard_drug_df_2, how=\"inner\", on=['drug_concept_id','outcome_concept_id'])"
   ]
  },
  {
   "cell_type": "code",
   "execution_count": null,
   "metadata": {},
   "outputs": [],
   "source": [
    "print(' # of rows in standard_drug_outcome_drilldown-->',standard_drug_df_1.shape[0])\n",
    "print(' # of rows in standard_drug_outcome_statistics -->',standard_drug_df_2.shape[0])\n",
    "print(' # of rows in standard_drug_df -->',standard_drug_df.shape[0])\n"
   ]
  },
  {
   "cell_type": "code",
   "execution_count": null,
   "metadata": {},
   "outputs": [],
   "source": [
    " standard_drug_case=pd.merge(standard_case_df, standard_drug_df, how=\"inner\", on=['pri_isr'])"
   ]
  },
  {
   "cell_type": "code",
   "execution_count": null,
   "metadata": {},
   "outputs": [],
   "source": [
    "standard_drug_case.shape"
   ]
  },
  {
   "cell_type": "code",
   "execution_count": null,
   "metadata": {},
   "outputs": [],
   "source": [
    "standard_drug_case.columns"
   ]
  },
  {
   "cell_type": "code",
   "execution_count": null,
   "metadata": {},
   "outputs": [],
   "source": [
    "standard_drug_case['outc_code'].unique()"
   ]
  }
 ],
 "metadata": {
  "kernelspec": {
   "display_name": "Python 3",
   "language": "python",
   "name": "python3"
  },
  "language_info": {
   "codemirror_mode": {
    "name": "ipython",
    "version": 3
   },
   "file_extension": ".py",
   "mimetype": "text/x-python",
   "name": "python",
   "nbconvert_exporter": "python",
   "pygments_lexer": "ipython3",
   "version": "3.7.9"
  }
 },
 "nbformat": 4,
 "nbformat_minor": 4
}
